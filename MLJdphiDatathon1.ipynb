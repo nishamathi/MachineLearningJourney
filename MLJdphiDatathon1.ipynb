{
  "nbformat": 4,
  "nbformat_minor": 0,
  "metadata": {
    "colab": {
      "name": "MLJdphiDatathon1.ipynb",
      "provenance": [],
      "collapsed_sections": [],
      "authorship_tag": "ABX9TyOCnxEXXqYXdUGwcAZf/YUc",
      "include_colab_link": true
    },
    "kernelspec": {
      "name": "python3",
      "display_name": "Python 3"
    }
  },
  "cells": [
    {
      "cell_type": "markdown",
      "metadata": {
        "id": "view-in-github",
        "colab_type": "text"
      },
      "source": [
        "<a href=\"https://colab.research.google.com/github/nishamathi/MachineLearningJourney/blob/main/MLJdphiDatathon1.ipynb\" target=\"_parent\"><img src=\"https://colab.research.google.com/assets/colab-badge.svg\" alt=\"Open In Colab\"/></a>"
      ]
    },
    {
      "cell_type": "markdown",
      "metadata": {
        "id": "HkTl989jEsx5"
      },
      "source": [
        ""
      ]
    },
    {
      "cell_type": "code",
      "metadata": {
        "colab": {
          "base_uri": "https://localhost:8080/"
        },
        "id": "nsXZVkTRE3iQ",
        "outputId": "43f98bb8-24ce-458b-8f18-155a2fa6e511"
      },
      "source": [
        "!pip install imblearn"
      ],
      "execution_count": 64,
      "outputs": [
        {
          "output_type": "stream",
          "text": [
            "Requirement already satisfied: imblearn in /usr/local/lib/python3.6/dist-packages (0.0)\n",
            "Requirement already satisfied: imbalanced-learn in /usr/local/lib/python3.6/dist-packages (from imblearn) (0.4.3)\n",
            "Requirement already satisfied: scikit-learn>=0.20 in /usr/local/lib/python3.6/dist-packages (from imbalanced-learn->imblearn) (0.22.2.post1)\n",
            "Requirement already satisfied: scipy>=0.13.3 in /usr/local/lib/python3.6/dist-packages (from imbalanced-learn->imblearn) (1.4.1)\n",
            "Requirement already satisfied: numpy>=1.8.2 in /usr/local/lib/python3.6/dist-packages (from imbalanced-learn->imblearn) (1.19.4)\n",
            "Requirement already satisfied: joblib>=0.11 in /usr/local/lib/python3.6/dist-packages (from scikit-learn>=0.20->imbalanced-learn->imblearn) (1.0.0)\n"
          ],
          "name": "stdout"
        }
      ]
    },
    {
      "cell_type": "code",
      "metadata": {
        "colab": {
          "base_uri": "https://localhost:8080/"
        },
        "id": "qwr43zDIo3uc",
        "outputId": "b8d33ea2-7956-4f97-faeb-57e0a3affb87"
      },
      "source": [
        "!pip install six"
      ],
      "execution_count": 65,
      "outputs": [
        {
          "output_type": "stream",
          "text": [
            "Requirement already satisfied: six in /usr/local/lib/python3.6/dist-packages (1.15.0)\n"
          ],
          "name": "stdout"
        }
      ]
    },
    {
      "cell_type": "code",
      "metadata": {
        "colab": {
          "base_uri": "https://localhost:8080/"
        },
        "id": "EXNuEpqNn92l",
        "outputId": "d91d653a-20a2-4062-9b94-27baa73a2aba"
      },
      "source": [
        "pip show imblearn"
      ],
      "execution_count": 66,
      "outputs": [
        {
          "output_type": "stream",
          "text": [
            "Name: imblearn\n",
            "Version: 0.0\n",
            "Summary: Toolbox for imbalanced dataset in machine learning.\n",
            "Home-page: https://pypi.python.org/pypi/imbalanced-learn/\n",
            "Author: UNKNOWN\n",
            "Author-email: UNKNOWN\n",
            "License: UNKNOWN\n",
            "Location: /usr/local/lib/python3.6/dist-packages\n",
            "Requires: imbalanced-learn\n",
            "Required-by: \n"
          ],
          "name": "stdout"
        }
      ]
    },
    {
      "cell_type": "code",
      "metadata": {
        "colab": {
          "base_uri": "https://localhost:8080/"
        },
        "id": "sZzCm1LapPw3",
        "outputId": "7633020c-4750-4e54-de4d-cda795686320"
      },
      "source": [
        "pip show scikit-learn"
      ],
      "execution_count": 67,
      "outputs": [
        {
          "output_type": "stream",
          "text": [
            "Name: scikit-learn\n",
            "Version: 0.22.2.post1\n",
            "Summary: A set of python modules for machine learning and data mining\n",
            "Home-page: http://scikit-learn.org\n",
            "Author: None\n",
            "Author-email: None\n",
            "License: new BSD\n",
            "Location: /usr/local/lib/python3.6/dist-packages\n",
            "Requires: numpy, scipy, joblib\n",
            "Required-by: yellowbrick, umap-learn, textgenrnn, sklearn, sklearn-pandas, mlxtend, lucid, lightgbm, librosa, imbalanced-learn, fancyimpute\n"
          ],
          "name": "stdout"
        }
      ]
    },
    {
      "cell_type": "code",
      "metadata": {
        "id": "f_-QjXwjEoUB"
      },
      "source": [
        "import pandas as pd\r\n",
        "import numpy as np\r\n",
        "insurance_data  = pd.read_csv(\"https://raw.githubusercontent.com/dphi-official/Datasets/master/travel_insurance/Training_set_label.csv\" )\r\n",
        "test_data = pd.read_csv('https://raw.githubusercontent.com/dphi-official/Datasets/master/travel_insurance/Testing_set_label.csv')"
      ],
      "execution_count": 68,
      "outputs": []
    },
    {
      "cell_type": "code",
      "metadata": {
        "colab": {
          "base_uri": "https://localhost:8080/",
          "height": 204
        },
        "id": "0bxY7TKzXOvg",
        "outputId": "8c66815f-7c37-4d49-8e8b-0b38ce44eef0"
      },
      "source": [
        "insurance_data.head()"
      ],
      "execution_count": 69,
      "outputs": [
        {
          "output_type": "execute_result",
          "data": {
            "text/html": [
              "<div>\n",
              "<style scoped>\n",
              "    .dataframe tbody tr th:only-of-type {\n",
              "        vertical-align: middle;\n",
              "    }\n",
              "\n",
              "    .dataframe tbody tr th {\n",
              "        vertical-align: top;\n",
              "    }\n",
              "\n",
              "    .dataframe thead th {\n",
              "        text-align: right;\n",
              "    }\n",
              "</style>\n",
              "<table border=\"1\" class=\"dataframe\">\n",
              "  <thead>\n",
              "    <tr style=\"text-align: right;\">\n",
              "      <th></th>\n",
              "      <th>Agency</th>\n",
              "      <th>Agency Type</th>\n",
              "      <th>Distribution Channel</th>\n",
              "      <th>Product Name</th>\n",
              "      <th>Duration</th>\n",
              "      <th>Destination</th>\n",
              "      <th>Net Sales</th>\n",
              "      <th>Commision (in value)</th>\n",
              "      <th>Gender</th>\n",
              "      <th>Age</th>\n",
              "      <th>Claim</th>\n",
              "    </tr>\n",
              "  </thead>\n",
              "  <tbody>\n",
              "    <tr>\n",
              "      <th>0</th>\n",
              "      <td>CWT</td>\n",
              "      <td>Travel Agency</td>\n",
              "      <td>Online</td>\n",
              "      <td>Rental Vehicle Excess Insurance</td>\n",
              "      <td>61</td>\n",
              "      <td>UNITED KINGDOM</td>\n",
              "      <td>19.8</td>\n",
              "      <td>11.88</td>\n",
              "      <td>NaN</td>\n",
              "      <td>29</td>\n",
              "      <td>0</td>\n",
              "    </tr>\n",
              "    <tr>\n",
              "      <th>1</th>\n",
              "      <td>EPX</td>\n",
              "      <td>Travel Agency</td>\n",
              "      <td>Online</td>\n",
              "      <td>Cancellation Plan</td>\n",
              "      <td>93</td>\n",
              "      <td>NEW ZEALAND</td>\n",
              "      <td>63.0</td>\n",
              "      <td>0.00</td>\n",
              "      <td>NaN</td>\n",
              "      <td>36</td>\n",
              "      <td>0</td>\n",
              "    </tr>\n",
              "    <tr>\n",
              "      <th>2</th>\n",
              "      <td>EPX</td>\n",
              "      <td>Travel Agency</td>\n",
              "      <td>Online</td>\n",
              "      <td>2 way Comprehensive Plan</td>\n",
              "      <td>22</td>\n",
              "      <td>UNITED STATES</td>\n",
              "      <td>22.0</td>\n",
              "      <td>0.00</td>\n",
              "      <td>NaN</td>\n",
              "      <td>25</td>\n",
              "      <td>0</td>\n",
              "    </tr>\n",
              "    <tr>\n",
              "      <th>3</th>\n",
              "      <td>C2B</td>\n",
              "      <td>Airlines</td>\n",
              "      <td>Online</td>\n",
              "      <td>Silver Plan</td>\n",
              "      <td>14</td>\n",
              "      <td>SINGAPORE</td>\n",
              "      <td>54.5</td>\n",
              "      <td>13.63</td>\n",
              "      <td>M</td>\n",
              "      <td>24</td>\n",
              "      <td>0</td>\n",
              "    </tr>\n",
              "    <tr>\n",
              "      <th>4</th>\n",
              "      <td>EPX</td>\n",
              "      <td>Travel Agency</td>\n",
              "      <td>Online</td>\n",
              "      <td>Cancellation Plan</td>\n",
              "      <td>90</td>\n",
              "      <td>VIET NAM</td>\n",
              "      <td>10.0</td>\n",
              "      <td>0.00</td>\n",
              "      <td>NaN</td>\n",
              "      <td>23</td>\n",
              "      <td>0</td>\n",
              "    </tr>\n",
              "  </tbody>\n",
              "</table>\n",
              "</div>"
            ],
            "text/plain": [
              "  Agency    Agency Type Distribution Channel  ... Gender  Age Claim\n",
              "0    CWT  Travel Agency               Online  ...    NaN   29     0\n",
              "1    EPX  Travel Agency               Online  ...    NaN   36     0\n",
              "2    EPX  Travel Agency               Online  ...    NaN   25     0\n",
              "3    C2B       Airlines               Online  ...      M   24     0\n",
              "4    EPX  Travel Agency               Online  ...    NaN   23     0\n",
              "\n",
              "[5 rows x 11 columns]"
            ]
          },
          "metadata": {
            "tags": []
          },
          "execution_count": 69
        }
      ]
    },
    {
      "cell_type": "code",
      "metadata": {
        "id": "3m_8lDqpYKhO",
        "colab": {
          "base_uri": "https://localhost:8080/"
        },
        "outputId": "bd0e5a56-79d9-428f-d11d-b202d34932d5"
      },
      "source": [
        "#%%# To find dtypes of all columns\r\n",
        "#print(insurance_data.dtypes)\r\n",
        "\r\n",
        "print('-------------------------------- Rows*Columns in the data ---------------------')\r\n",
        "print(insurance_data.shape)\r\n",
        "print('-------------------------------- Info on the data ---------------------')\r\n",
        "\r\n",
        "print(insurance_data.info())\r\n",
        "print('-------------------------------- Basic Description of numeric data ---------------------')\r\n",
        "\r\n",
        "print(insurance_data.describe())"
      ],
      "execution_count": 70,
      "outputs": [
        {
          "output_type": "stream",
          "text": [
            "-------------------------------- Rows*Columns in the data ---------------------\n",
            "(48260, 11)\n",
            "-------------------------------- Info on the data ---------------------\n",
            "<class 'pandas.core.frame.DataFrame'>\n",
            "RangeIndex: 48260 entries, 0 to 48259\n",
            "Data columns (total 11 columns):\n",
            " #   Column                Non-Null Count  Dtype  \n",
            "---  ------                --------------  -----  \n",
            " 0   Agency                48260 non-null  object \n",
            " 1   Agency Type           48260 non-null  object \n",
            " 2   Distribution Channel  48260 non-null  object \n",
            " 3   Product Name          48260 non-null  object \n",
            " 4   Duration              48260 non-null  int64  \n",
            " 5   Destination           48260 non-null  object \n",
            " 6   Net Sales             48260 non-null  float64\n",
            " 7   Commision (in value)  48260 non-null  float64\n",
            " 8   Gender                13899 non-null  object \n",
            " 9   Age                   48260 non-null  int64  \n",
            " 10  Claim                 48260 non-null  int64  \n",
            "dtypes: float64(2), int64(3), object(6)\n",
            "memory usage: 4.1+ MB\n",
            "None\n",
            "-------------------------------- Basic Description of numeric data ---------------------\n",
            "           Duration     Net Sales  ...           Age         Claim\n",
            "count  48260.000000  48260.000000  ...  48260.000000  48260.000000\n",
            "mean      49.546602     40.747647  ...     39.927269      0.014671\n",
            "std      104.828147     48.823217  ...     14.027329      0.120231\n",
            "min       -2.000000   -389.000000  ...      0.000000      0.000000\n",
            "25%        9.000000     18.000000  ...     35.000000      0.000000\n",
            "50%       22.000000     27.000000  ...     36.000000      0.000000\n",
            "75%       53.000000     48.000000  ...     43.000000      0.000000\n",
            "max     4881.000000    666.000000  ...    118.000000      1.000000\n",
            "\n",
            "[8 rows x 5 columns]\n"
          ],
          "name": "stdout"
        }
      ]
    },
    {
      "cell_type": "code",
      "metadata": {
        "colab": {
          "base_uri": "https://localhost:8080/"
        },
        "id": "b28dTAiHXldP",
        "outputId": "ebf48f5b-17a1-4a95-f726-43c0d9c28795"
      },
      "source": [
        "# Check missing values\r\n",
        "print('-------------------------------- NULL values in the data ---------------------')\r\n",
        "print(insurance_data.isnull().sum())\r\n",
        "\r\n",
        "print('-------------------------------- Negative values in the numeric data ---------------------')\r\n",
        "# Check if negative values are present in int and float dtypes\r\n",
        "bool=insurance_data['Age']<0\r\n",
        "print('Age Neg value',bool.sum())\r\n",
        "\r\n",
        "bool=insurance_data['Claim']<0\r\n",
        "print('Claim Neg value',bool.sum())\r\n",
        "\r\n",
        "bool=insurance_data['Duration']<0\r\n",
        "print('Duration Neg value',bool.sum())\r\n",
        "\r\n",
        "bool=insurance_data['Net Sales']<0\r\n",
        "print('Net Sales Neg value',bool.sum())\r\n",
        "\r\n",
        "bool=insurance_data['Commision (in value)']<0\r\n",
        "print('Commision in value Neg value',bool.sum())\r\n",
        "\r\n",
        "print('-------------------------------- Gender variable distribution in the data ---------------------')\r\n",
        "gen=insurance_data['Gender'].value_counts()\r\n",
        "print(gen)\r\n",
        "\r\n",
        "print('-------------------------------- Duration variable basic measures in the data ---------------------')\r\n",
        "print('Mean of duration', np.mean(insurance_data['Duration']))\r\n",
        "print('Median of duration', np.median(insurance_data['Duration']))\r\n",
        "print('Min of duration', np.min(insurance_data['Duration']))\r\n",
        "print('Max of duration', np.max(insurance_data['Duration']))"
      ],
      "execution_count": 71,
      "outputs": [
        {
          "output_type": "stream",
          "text": [
            "-------------------------------- NULL values in the data ---------------------\n",
            "Agency                      0\n",
            "Agency Type                 0\n",
            "Distribution Channel        0\n",
            "Product Name                0\n",
            "Duration                    0\n",
            "Destination                 0\n",
            "Net Sales                   0\n",
            "Commision (in value)        0\n",
            "Gender                  34361\n",
            "Age                         0\n",
            "Claim                       0\n",
            "dtype: int64\n",
            "-------------------------------- Negative values in the numeric data ---------------------\n",
            "Age Neg value 0\n",
            "Claim Neg value 0\n",
            "Duration Neg value 3\n",
            "Net Sales Neg value 522\n",
            "Commision in value Neg value 0\n",
            "-------------------------------- Gender variable distribution in the data ---------------------\n",
            "M    7137\n",
            "F    6762\n",
            "Name: Gender, dtype: int64\n",
            "-------------------------------- Duration variable basic measures in the data ---------------------\n",
            "Mean of duration 49.5466017405719\n",
            "Median of duration 22.0\n",
            "Min of duration -2\n",
            "Max of duration 4881\n"
          ],
          "name": "stdout"
        }
      ]
    },
    {
      "cell_type": "code",
      "metadata": {
        "colab": {
          "base_uri": "https://localhost:8080/",
          "height": 286
        },
        "id": "iOkxU2r3yAZB",
        "outputId": "d1786adb-55da-4ac5-852b-eda4f8c1981c"
      },
      "source": [
        "# brief Visualization to get idea of distribution\r\n",
        "import matplotlib.pyplot as plt\r\n",
        "import numpy as np\r\n",
        "%matplotlib inline\r\n",
        "\r\n",
        "plt.hist(insurance_data['Duration'], density=False, bins=2)  # `density=False` would make counts\r\n",
        "plt.ylabel('Probability')\r\n",
        "plt.xlabel('Duration');\r\n"
      ],
      "execution_count": 72,
      "outputs": [
        {
          "output_type": "display_data",
          "data": {
            "image/png": "[encoded data removed]",
            "text/plain": [
              "<Figure size 432x288 with 1 Axes>"
            ]
          },
          "metadata": {
            "tags": [],
            "needs_background": "light"
          }
        }
      ]
    },
    {
      "cell_type": "code",
      "metadata": {
        "colab": {
          "base_uri": "https://localhost:8080/",
          "height": 285
        },
        "id": "YiLX_fq_AL1E",
        "outputId": "0da538f8-bb38-4277-f818-880dc3578a3d"
      },
      "source": [
        "import seaborn as sns\r\n",
        "sns.set_theme(style=\"whitegrid\")\r\n",
        "\r\n",
        "ax = sns.boxplot(x=insurance_data[\"Duration\"])"
      ],
      "execution_count": 73,
      "outputs": [
        {
          "output_type": "display_data",
          "data": {
            "image/png": "[encoded data removed]",
            "text/plain": [
              "<Figure size 432x288 with 1 Axes>"
            ]
          },
          "metadata": {
            "tags": []
          }
        }
      ]
    },
    {
      "cell_type": "markdown",
      "metadata": {
        "id": "jHeP5BlIZQgX"
      },
      "source": [
        "#EDA Summary\r\n",
        "1. Column of duration : contains negative values unsure what this means, could be the person didnt take the trip as planned? Max value of duration is 4881, units could be in days considering the destination values. The box plot says those could actually be outliers too.\r\n",
        "2. Column of gender : Too many blank values (34,361 rows, 71% of the data is missing)\r\n",
        "3. Column of age: Max age of 118. Current oldest living person is 114-year old\r\n",
        "4. Column of Destination: Too many levels (141 levels). So I decided to use TE instead of OHE for all categorical variables."
      ]
    },
    {
      "cell_type": "code",
      "metadata": {
        "id": "Z0RHLBm3CgFN"
      },
      "source": [
        "insurance_data['Gender']=insurance_data['Gender'].replace(np.nan,'Not Specified')"
      ],
      "execution_count": 74,
      "outputs": []
    },
    {
      "cell_type": "code",
      "metadata": {
        "colab": {
          "base_uri": "https://localhost:8080/",
          "height": 762
        },
        "id": "_JxAcew5IDXT",
        "outputId": "3c8050e4-df50-4a75-b686-e0339b5a364d"
      },
      "source": [
        "insurance_data.head(23)"
      ],
      "execution_count": 75,
      "outputs": [
        {
          "output_type": "execute_result",
          "data": {
            "text/html": [
              "<div>\n",
              "<style scoped>\n",
              "    .dataframe tbody tr th:only-of-type {\n",
              "        vertical-align: middle;\n",
              "    }\n",
              "\n",
              "    .dataframe tbody tr th {\n",
              "        vertical-align: top;\n",
              "    }\n",
              "\n",
              "    .dataframe thead th {\n",
              "        text-align: right;\n",
              "    }\n",
              "</style>\n",
              "<table border=\"1\" class=\"dataframe\">\n",
              "  <thead>\n",
              "    <tr style=\"text-align: right;\">\n",
              "      <th></th>\n",
              "      <th>Agency</th>\n",
              "      <th>Agency Type</th>\n",
              "      <th>Distribution Channel</th>\n",
              "      <th>Product Name</th>\n",
              "      <th>Duration</th>\n",
              "      <th>Destination</th>\n",
              "      <th>Net Sales</th>\n",
              "      <th>Commision (in value)</th>\n",
              "      <th>Gender</th>\n",
              "      <th>Age</th>\n",
              "      <th>Claim</th>\n",
              "    </tr>\n",
              "  </thead>\n",
              "  <tbody>\n",
              "    <tr>\n",
              "      <th>0</th>\n",
              "      <td>CWT</td>\n",
              "      <td>Travel Agency</td>\n",
              "      <td>Online</td>\n",
              "      <td>Rental Vehicle Excess Insurance</td>\n",
              "      <td>61</td>\n",
              "      <td>UNITED KINGDOM</td>\n",
              "      <td>19.80</td>\n",
              "      <td>11.88</td>\n",
              "      <td>Not Specified</td>\n",
              "      <td>29</td>\n",
              "      <td>0</td>\n",
              "    </tr>\n",
              "    <tr>\n",
              "      <th>1</th>\n",
              "      <td>EPX</td>\n",
              "      <td>Travel Agency</td>\n",
              "      <td>Online</td>\n",
              "      <td>Cancellation Plan</td>\n",
              "      <td>93</td>\n",
              "      <td>NEW ZEALAND</td>\n",
              "      <td>63.00</td>\n",
              "      <td>0.00</td>\n",
              "      <td>Not Specified</td>\n",
              "      <td>36</td>\n",
              "      <td>0</td>\n",
              "    </tr>\n",
              "    <tr>\n",
              "      <th>2</th>\n",
              "      <td>EPX</td>\n",
              "      <td>Travel Agency</td>\n",
              "      <td>Online</td>\n",
              "      <td>2 way Comprehensive Plan</td>\n",
              "      <td>22</td>\n",
              "      <td>UNITED STATES</td>\n",
              "      <td>22.00</td>\n",
              "      <td>0.00</td>\n",
              "      <td>Not Specified</td>\n",
              "      <td>25</td>\n",
              "      <td>0</td>\n",
              "    </tr>\n",
              "    <tr>\n",
              "      <th>3</th>\n",
              "      <td>C2B</td>\n",
              "      <td>Airlines</td>\n",
              "      <td>Online</td>\n",
              "      <td>Silver Plan</td>\n",
              "      <td>14</td>\n",
              "      <td>SINGAPORE</td>\n",
              "      <td>54.50</td>\n",
              "      <td>13.63</td>\n",
              "      <td>M</td>\n",
              "      <td>24</td>\n",
              "      <td>0</td>\n",
              "    </tr>\n",
              "    <tr>\n",
              "      <th>4</th>\n",
              "      <td>EPX</td>\n",
              "      <td>Travel Agency</td>\n",
              "      <td>Online</td>\n",
              "      <td>Cancellation Plan</td>\n",
              "      <td>90</td>\n",
              "      <td>VIET NAM</td>\n",
              "      <td>10.00</td>\n",
              "      <td>0.00</td>\n",
              "      <td>Not Specified</td>\n",
              "      <td>23</td>\n",
              "      <td>0</td>\n",
              "    </tr>\n",
              "    <tr>\n",
              "      <th>5</th>\n",
              "      <td>EPX</td>\n",
              "      <td>Travel Agency</td>\n",
              "      <td>Online</td>\n",
              "      <td>2 way Comprehensive Plan</td>\n",
              "      <td>36</td>\n",
              "      <td>KOREA, REPUBLIC OF</td>\n",
              "      <td>47.00</td>\n",
              "      <td>0.00</td>\n",
              "      <td>Not Specified</td>\n",
              "      <td>36</td>\n",
              "      <td>0</td>\n",
              "    </tr>\n",
              "    <tr>\n",
              "      <th>6</th>\n",
              "      <td>EPX</td>\n",
              "      <td>Travel Agency</td>\n",
              "      <td>Online</td>\n",
              "      <td>2 way Comprehensive Plan</td>\n",
              "      <td>13</td>\n",
              "      <td>THAILAND</td>\n",
              "      <td>25.00</td>\n",
              "      <td>0.00</td>\n",
              "      <td>Not Specified</td>\n",
              "      <td>36</td>\n",
              "      <td>0</td>\n",
              "    </tr>\n",
              "    <tr>\n",
              "      <th>7</th>\n",
              "      <td>EPX</td>\n",
              "      <td>Travel Agency</td>\n",
              "      <td>Online</td>\n",
              "      <td>Cancellation Plan</td>\n",
              "      <td>4</td>\n",
              "      <td>VIET NAM</td>\n",
              "      <td>27.00</td>\n",
              "      <td>0.00</td>\n",
              "      <td>Not Specified</td>\n",
              "      <td>35</td>\n",
              "      <td>0</td>\n",
              "    </tr>\n",
              "    <tr>\n",
              "      <th>8</th>\n",
              "      <td>EPX</td>\n",
              "      <td>Travel Agency</td>\n",
              "      <td>Online</td>\n",
              "      <td>2 way Comprehensive Plan</td>\n",
              "      <td>95</td>\n",
              "      <td>THAILAND</td>\n",
              "      <td>20.00</td>\n",
              "      <td>0.00</td>\n",
              "      <td>Not Specified</td>\n",
              "      <td>36</td>\n",
              "      <td>0</td>\n",
              "    </tr>\n",
              "    <tr>\n",
              "      <th>9</th>\n",
              "      <td>EPX</td>\n",
              "      <td>Travel Agency</td>\n",
              "      <td>Online</td>\n",
              "      <td>Cancellation Plan</td>\n",
              "      <td>30</td>\n",
              "      <td>AUSTRALIA</td>\n",
              "      <td>10.00</td>\n",
              "      <td>0.00</td>\n",
              "      <td>Not Specified</td>\n",
              "      <td>36</td>\n",
              "      <td>0</td>\n",
              "    </tr>\n",
              "    <tr>\n",
              "      <th>10</th>\n",
              "      <td>EPX</td>\n",
              "      <td>Travel Agency</td>\n",
              "      <td>Online</td>\n",
              "      <td>1 way Comprehensive Plan</td>\n",
              "      <td>4</td>\n",
              "      <td>MALAYSIA</td>\n",
              "      <td>20.00</td>\n",
              "      <td>0.00</td>\n",
              "      <td>Not Specified</td>\n",
              "      <td>56</td>\n",
              "      <td>0</td>\n",
              "    </tr>\n",
              "    <tr>\n",
              "      <th>11</th>\n",
              "      <td>EPX</td>\n",
              "      <td>Travel Agency</td>\n",
              "      <td>Online</td>\n",
              "      <td>2 way Comprehensive Plan</td>\n",
              "      <td>8</td>\n",
              "      <td>MALAYSIA</td>\n",
              "      <td>20.00</td>\n",
              "      <td>0.00</td>\n",
              "      <td>Not Specified</td>\n",
              "      <td>36</td>\n",
              "      <td>0</td>\n",
              "    </tr>\n",
              "    <tr>\n",
              "      <th>12</th>\n",
              "      <td>EPX</td>\n",
              "      <td>Travel Agency</td>\n",
              "      <td>Online</td>\n",
              "      <td>Cancellation Plan</td>\n",
              "      <td>49</td>\n",
              "      <td>SINGAPORE</td>\n",
              "      <td>-80.00</td>\n",
              "      <td>0.00</td>\n",
              "      <td>Not Specified</td>\n",
              "      <td>21</td>\n",
              "      <td>0</td>\n",
              "    </tr>\n",
              "    <tr>\n",
              "      <th>13</th>\n",
              "      <td>JZI</td>\n",
              "      <td>Airlines</td>\n",
              "      <td>Online</td>\n",
              "      <td>Basic Plan</td>\n",
              "      <td>3</td>\n",
              "      <td>INDIA</td>\n",
              "      <td>22.00</td>\n",
              "      <td>7.70</td>\n",
              "      <td>M</td>\n",
              "      <td>26</td>\n",
              "      <td>0</td>\n",
              "    </tr>\n",
              "    <tr>\n",
              "      <th>14</th>\n",
              "      <td>EPX</td>\n",
              "      <td>Travel Agency</td>\n",
              "      <td>Online</td>\n",
              "      <td>1 way Comprehensive Plan</td>\n",
              "      <td>6</td>\n",
              "      <td>TAIWAN, PROVINCE OF CHINA</td>\n",
              "      <td>53.00</td>\n",
              "      <td>0.00</td>\n",
              "      <td>Not Specified</td>\n",
              "      <td>36</td>\n",
              "      <td>0</td>\n",
              "    </tr>\n",
              "    <tr>\n",
              "      <th>15</th>\n",
              "      <td>CWT</td>\n",
              "      <td>Travel Agency</td>\n",
              "      <td>Online</td>\n",
              "      <td>Rental Vehicle Excess Insurance</td>\n",
              "      <td>1</td>\n",
              "      <td>MALAYSIA</td>\n",
              "      <td>9.90</td>\n",
              "      <td>5.94</td>\n",
              "      <td>Not Specified</td>\n",
              "      <td>30</td>\n",
              "      <td>0</td>\n",
              "    </tr>\n",
              "    <tr>\n",
              "      <th>16</th>\n",
              "      <td>CWT</td>\n",
              "      <td>Travel Agency</td>\n",
              "      <td>Online</td>\n",
              "      <td>Rental Vehicle Excess Insurance</td>\n",
              "      <td>4</td>\n",
              "      <td>MALAYSIA</td>\n",
              "      <td>29.70</td>\n",
              "      <td>17.82</td>\n",
              "      <td>Not Specified</td>\n",
              "      <td>53</td>\n",
              "      <td>0</td>\n",
              "    </tr>\n",
              "    <tr>\n",
              "      <th>17</th>\n",
              "      <td>EPX</td>\n",
              "      <td>Travel Agency</td>\n",
              "      <td>Online</td>\n",
              "      <td>Cancellation Plan</td>\n",
              "      <td>54</td>\n",
              "      <td>CAMBODIA</td>\n",
              "      <td>12.00</td>\n",
              "      <td>0.00</td>\n",
              "      <td>Not Specified</td>\n",
              "      <td>36</td>\n",
              "      <td>0</td>\n",
              "    </tr>\n",
              "    <tr>\n",
              "      <th>18</th>\n",
              "      <td>TST</td>\n",
              "      <td>Travel Agency</td>\n",
              "      <td>Offline</td>\n",
              "      <td>Travel Cruise Protect</td>\n",
              "      <td>40</td>\n",
              "      <td>THAILAND</td>\n",
              "      <td>30.00</td>\n",
              "      <td>10.50</td>\n",
              "      <td>M</td>\n",
              "      <td>50</td>\n",
              "      <td>0</td>\n",
              "    </tr>\n",
              "    <tr>\n",
              "      <th>19</th>\n",
              "      <td>JZI</td>\n",
              "      <td>Airlines</td>\n",
              "      <td>Online</td>\n",
              "      <td>Basic Plan</td>\n",
              "      <td>2</td>\n",
              "      <td>MALAYSIA</td>\n",
              "      <td>18.00</td>\n",
              "      <td>6.30</td>\n",
              "      <td>M</td>\n",
              "      <td>39</td>\n",
              "      <td>0</td>\n",
              "    </tr>\n",
              "    <tr>\n",
              "      <th>20</th>\n",
              "      <td>C2B</td>\n",
              "      <td>Airlines</td>\n",
              "      <td>Online</td>\n",
              "      <td>Annual Silver Plan</td>\n",
              "      <td>365</td>\n",
              "      <td>SINGAPORE</td>\n",
              "      <td>252.85</td>\n",
              "      <td>63.21</td>\n",
              "      <td>M</td>\n",
              "      <td>52</td>\n",
              "      <td>1</td>\n",
              "    </tr>\n",
              "    <tr>\n",
              "      <th>21</th>\n",
              "      <td>EPX</td>\n",
              "      <td>Travel Agency</td>\n",
              "      <td>Online</td>\n",
              "      <td>Cancellation Plan</td>\n",
              "      <td>11</td>\n",
              "      <td>KOREA, REPUBLIC OF</td>\n",
              "      <td>33.00</td>\n",
              "      <td>0.00</td>\n",
              "      <td>Not Specified</td>\n",
              "      <td>36</td>\n",
              "      <td>0</td>\n",
              "    </tr>\n",
              "    <tr>\n",
              "      <th>22</th>\n",
              "      <td>JZI</td>\n",
              "      <td>Airlines</td>\n",
              "      <td>Online</td>\n",
              "      <td>Basic Plan</td>\n",
              "      <td>49</td>\n",
              "      <td>JAPAN</td>\n",
              "      <td>26.00</td>\n",
              "      <td>9.10</td>\n",
              "      <td>F</td>\n",
              "      <td>38</td>\n",
              "      <td>0</td>\n",
              "    </tr>\n",
              "  </tbody>\n",
              "</table>\n",
              "</div>"
            ],
            "text/plain": [
              "   Agency    Agency Type Distribution Channel  ...         Gender  Age Claim\n",
              "0     CWT  Travel Agency               Online  ...  Not Specified   29     0\n",
              "1     EPX  Travel Agency               Online  ...  Not Specified   36     0\n",
              "2     EPX  Travel Agency               Online  ...  Not Specified   25     0\n",
              "3     C2B       Airlines               Online  ...              M   24     0\n",
              "4     EPX  Travel Agency               Online  ...  Not Specified   23     0\n",
              "5     EPX  Travel Agency               Online  ...  Not Specified   36     0\n",
              "6     EPX  Travel Agency               Online  ...  Not Specified   36     0\n",
              "7     EPX  Travel Agency               Online  ...  Not Specified   35     0\n",
              "8     EPX  Travel Agency               Online  ...  Not Specified   36     0\n",
              "9     EPX  Travel Agency               Online  ...  Not Specified   36     0\n",
              "10    EPX  Travel Agency               Online  ...  Not Specified   56     0\n",
              "11    EPX  Travel Agency               Online  ...  Not Specified   36     0\n",
              "12    EPX  Travel Agency               Online  ...  Not Specified   21     0\n",
              "13    JZI       Airlines               Online  ...              M   26     0\n",
              "14    EPX  Travel Agency               Online  ...  Not Specified   36     0\n",
              "15    CWT  Travel Agency               Online  ...  Not Specified   30     0\n",
              "16    CWT  Travel Agency               Online  ...  Not Specified   53     0\n",
              "17    EPX  Travel Agency               Online  ...  Not Specified   36     0\n",
              "18    TST  Travel Agency              Offline  ...              M   50     0\n",
              "19    JZI       Airlines               Online  ...              M   39     0\n",
              "20    C2B       Airlines               Online  ...              M   52     1\n",
              "21    EPX  Travel Agency               Online  ...  Not Specified   36     0\n",
              "22    JZI       Airlines               Online  ...              F   38     0\n",
              "\n",
              "[23 rows x 11 columns]"
            ]
          },
          "metadata": {
            "tags": []
          },
          "execution_count": 75
        }
      ]
    },
    {
      "cell_type": "code",
      "metadata": {
        "colab": {
          "base_uri": "https://localhost:8080/"
        },
        "id": "BkNxel9DFDON",
        "outputId": "7efcc92c-58cb-48e9-cf21-e1705f93bee7"
      },
      "source": [
        "print(insurance_data.dtypes)\r\n",
        "ag=pd.get_dummies(insurance_data['Agency'], prefix='AG')\r\n",
        "ag.head()\r\n",
        "pn=pd.get_dummies(insurance_data['Product Name'], prefix='PN')\r\n",
        "pn.head()\r\n",
        "gn=pd.get_dummies(insurance_data['Gender'], prefix='GN')\r\n",
        "gn.head()\r\n",
        "agtp=pd.get_dummies(insurance_data['Agency Type'], prefix='AGTP')\r\n",
        "agtp.head()\r\n",
        "dc=pd.get_dummies(insurance_data['Distribution Channel'], prefix='DC')\r\n",
        "dc.head()\r\n",
        "dest=pd.get_dummies(insurance_data['Destination'], prefix='Dest')\r\n",
        "dest.head()\r\n",
        "print(ag.shape)\r\n",
        "print(pn.shape)\r\n",
        "print(gn.shape)\r\n",
        "print(agtp.shape)\r\n",
        "print(dc.shape)\r\n",
        "print(dest.shape)"
      ],
      "execution_count": 76,
      "outputs": [
        {
          "output_type": "stream",
          "text": [
            "Agency                   object\n",
            "Agency Type              object\n",
            "Distribution Channel     object\n",
            "Product Name             object\n",
            "Duration                  int64\n",
            "Destination              object\n",
            "Net Sales               float64\n",
            "Commision (in value)    float64\n",
            "Gender                   object\n",
            "Age                       int64\n",
            "Claim                     int64\n",
            "dtype: object\n",
            "(48260, 16)\n",
            "(48260, 26)\n",
            "(48260, 3)\n",
            "(48260, 2)\n",
            "(48260, 2)\n",
            "(48260, 141)\n"
          ],
          "name": "stdout"
        }
      ]
    },
    {
      "cell_type": "code",
      "metadata": {
        "id": "W5P0tgCw8-7_"
      },
      "source": [
        "class TargetEncoder():\r\n",
        "    def __init__(self):\r\n",
        "        self.category_maps = {}\r\n",
        "        return\r\n",
        "\r\n",
        "    def keys(self):\r\n",
        "        return self.category_maps.keys()\r\n",
        "\r\n",
        "    def fit(self, X, y, keys):\r\n",
        "        if type(keys) != list:\r\n",
        "            keys = [keys]\r\n",
        "\r\n",
        "        for key in keys:\r\n",
        "            print(\"Fitting column {}\".format(key))\r\n",
        "            category_map = {}\r\n",
        "            for category, group in X.groupby(key, as_index=False):\r\n",
        "                category_map[category] = y.loc[y.index.isin(group.index)].mean()\r\n",
        "            category_map[''] = y.mean()\r\n",
        "            self.category_maps[key] = category_map\r\n",
        "\r\n",
        "    def transform(self, X):\r\n",
        "        retX = X.copy()\r\n",
        "        for key in retX.keys():\r\n",
        "            if key in self.category_maps:\r\n",
        "                retX[key] = retX[key].map(lambda x: self.category_maps[key][x] if x in self.category_maps[key] else self.category_maps[key][''])\r\n",
        "        \r\n",
        "        return retX"
      ],
      "execution_count": 77,
      "outputs": []
    },
    {
      "cell_type": "code",
      "metadata": {
        "colab": {
          "base_uri": "https://localhost:8080/",
          "height": 360
        },
        "id": "OsESsISUYXVJ",
        "outputId": "2c6afe74-5596-4cd0-81a6-fc78c9db5713"
      },
      "source": [
        "# Code not used Tried OHE and TE initially\r\n",
        "print(isinstance(gn, pd.DataFrame))\r\n",
        "filt_id=insurance_data.drop(columns=['Agency','Product Name', 'Gender', 'Agency Type', 'Distribution Channel'])\r\n",
        "tmp=[ag, gn, pn, agtp, dc, filt_id]\r\n",
        "CatFile=pd.concat(tmp,axis=1) \r\n",
        "CatFile.columns\r\n",
        "CatFile.head(5)"
      ],
      "execution_count": 43,
      "outputs": [
        {
          "output_type": "stream",
          "text": [
            "True\n"
          ],
          "name": "stdout"
        },
        {
          "output_type": "execute_result",
          "data": {
            "text/html": [
              "<div>\n",
              "<style scoped>\n",
              "    .dataframe tbody tr th:only-of-type {\n",
              "        vertical-align: middle;\n",
              "    }\n",
              "\n",
              "    .dataframe tbody tr th {\n",
              "        vertical-align: top;\n",
              "    }\n",
              "\n",
              "    .dataframe thead th {\n",
              "        text-align: right;\n",
              "    }\n",
              "</style>\n",
              "<table border=\"1\" class=\"dataframe\">\n",
              "  <thead>\n",
              "    <tr style=\"text-align: right;\">\n",
              "      <th></th>\n",
              "      <th>AG_ADM</th>\n",
              "      <th>AG_ART</th>\n",
              "      <th>AG_C2B</th>\n",
              "      <th>AG_CBH</th>\n",
              "      <th>AG_CCR</th>\n",
              "      <th>AG_CSR</th>\n",
              "      <th>AG_CWT</th>\n",
              "      <th>AG_EPX</th>\n",
              "      <th>AG_JWT</th>\n",
              "      <th>AG_JZI</th>\n",
              "      <th>AG_KML</th>\n",
              "      <th>AG_LWC</th>\n",
              "      <th>AG_RAB</th>\n",
              "      <th>AG_SSI</th>\n",
              "      <th>AG_TST</th>\n",
              "      <th>AG_TTW</th>\n",
              "      <th>GN_F</th>\n",
              "      <th>GN_M</th>\n",
              "      <th>GN_Not Specified</th>\n",
              "      <th>PN_1 way Comprehensive Plan</th>\n",
              "      <th>PN_2 way Comprehensive Plan</th>\n",
              "      <th>PN_24 Protect</th>\n",
              "      <th>PN_Annual Gold Plan</th>\n",
              "      <th>PN_Annual Silver Plan</th>\n",
              "      <th>PN_Annual Travel Protect Gold</th>\n",
              "      <th>PN_Annual Travel Protect Platinum</th>\n",
              "      <th>PN_Annual Travel Protect Silver</th>\n",
              "      <th>PN_Basic Plan</th>\n",
              "      <th>PN_Bronze Plan</th>\n",
              "      <th>PN_Cancellation Plan</th>\n",
              "      <th>PN_Child Comprehensive Plan</th>\n",
              "      <th>PN_Comprehensive Plan</th>\n",
              "      <th>PN_Gold Plan</th>\n",
              "      <th>PN_Individual Comprehensive Plan</th>\n",
              "      <th>PN_Premier Plan</th>\n",
              "      <th>PN_Rental Vehicle Excess Insurance</th>\n",
              "      <th>PN_Silver Plan</th>\n",
              "      <th>PN_Single Trip Travel Protect Gold</th>\n",
              "      <th>PN_Single Trip Travel Protect Platinum</th>\n",
              "      <th>PN_Single Trip Travel Protect Silver</th>\n",
              "      <th>PN_Spouse or Parents Comprehensive Plan</th>\n",
              "      <th>PN_Ticket Protector</th>\n",
              "      <th>PN_Travel Cruise Protect</th>\n",
              "      <th>PN_Travel Cruise Protect Family</th>\n",
              "      <th>PN_Value Plan</th>\n",
              "      <th>AGTP_Airlines</th>\n",
              "      <th>AGTP_Travel Agency</th>\n",
              "      <th>DC_Offline</th>\n",
              "      <th>DC_Online</th>\n",
              "      <th>Duration</th>\n",
              "      <th>Destination</th>\n",
              "      <th>Net Sales</th>\n",
              "      <th>Commision (in value)</th>\n",
              "      <th>Age</th>\n",
              "      <th>Claim</th>\n",
              "    </tr>\n",
              "  </thead>\n",
              "  <tbody>\n",
              "    <tr>\n",
              "      <th>0</th>\n",
              "      <td>0</td>\n",
              "      <td>0</td>\n",
              "      <td>0</td>\n",
              "      <td>0</td>\n",
              "      <td>0</td>\n",
              "      <td>0</td>\n",
              "      <td>1</td>\n",
              "      <td>0</td>\n",
              "      <td>0</td>\n",
              "      <td>0</td>\n",
              "      <td>0</td>\n",
              "      <td>0</td>\n",
              "      <td>0</td>\n",
              "      <td>0</td>\n",
              "      <td>0</td>\n",
              "      <td>0</td>\n",
              "      <td>0</td>\n",
              "      <td>0</td>\n",
              "      <td>1</td>\n",
              "      <td>0</td>\n",
              "      <td>0</td>\n",
              "      <td>0</td>\n",
              "      <td>0</td>\n",
              "      <td>0</td>\n",
              "      <td>0</td>\n",
              "      <td>0</td>\n",
              "      <td>0</td>\n",
              "      <td>0</td>\n",
              "      <td>0</td>\n",
              "      <td>0</td>\n",
              "      <td>0</td>\n",
              "      <td>0</td>\n",
              "      <td>0</td>\n",
              "      <td>0</td>\n",
              "      <td>0</td>\n",
              "      <td>1</td>\n",
              "      <td>0</td>\n",
              "      <td>0</td>\n",
              "      <td>0</td>\n",
              "      <td>0</td>\n",
              "      <td>0</td>\n",
              "      <td>0</td>\n",
              "      <td>0</td>\n",
              "      <td>0</td>\n",
              "      <td>0</td>\n",
              "      <td>0</td>\n",
              "      <td>1</td>\n",
              "      <td>0</td>\n",
              "      <td>1</td>\n",
              "      <td>61</td>\n",
              "      <td>UNITED KINGDOM</td>\n",
              "      <td>19.8</td>\n",
              "      <td>11.88</td>\n",
              "      <td>29</td>\n",
              "      <td>0</td>\n",
              "    </tr>\n",
              "    <tr>\n",
              "      <th>1</th>\n",
              "      <td>0</td>\n",
              "      <td>0</td>\n",
              "      <td>0</td>\n",
              "      <td>0</td>\n",
              "      <td>0</td>\n",
              "      <td>0</td>\n",
              "      <td>0</td>\n",
              "      <td>1</td>\n",
              "      <td>0</td>\n",
              "      <td>0</td>\n",
              "      <td>0</td>\n",
              "      <td>0</td>\n",
              "      <td>0</td>\n",
              "      <td>0</td>\n",
              "      <td>0</td>\n",
              "      <td>0</td>\n",
              "      <td>0</td>\n",
              "      <td>0</td>\n",
              "      <td>1</td>\n",
              "      <td>0</td>\n",
              "      <td>0</td>\n",
              "      <td>0</td>\n",
              "      <td>0</td>\n",
              "      <td>0</td>\n",
              "      <td>0</td>\n",
              "      <td>0</td>\n",
              "      <td>0</td>\n",
              "      <td>0</td>\n",
              "      <td>0</td>\n",
              "      <td>1</td>\n",
              "      <td>0</td>\n",
              "      <td>0</td>\n",
              "      <td>0</td>\n",
              "      <td>0</td>\n",
              "      <td>0</td>\n",
              "      <td>0</td>\n",
              "      <td>0</td>\n",
              "      <td>0</td>\n",
              "      <td>0</td>\n",
              "      <td>0</td>\n",
              "      <td>0</td>\n",
              "      <td>0</td>\n",
              "      <td>0</td>\n",
              "      <td>0</td>\n",
              "      <td>0</td>\n",
              "      <td>0</td>\n",
              "      <td>1</td>\n",
              "      <td>0</td>\n",
              "      <td>1</td>\n",
              "      <td>93</td>\n",
              "      <td>NEW ZEALAND</td>\n",
              "      <td>63.0</td>\n",
              "      <td>0.00</td>\n",
              "      <td>36</td>\n",
              "      <td>0</td>\n",
              "    </tr>\n",
              "    <tr>\n",
              "      <th>2</th>\n",
              "      <td>0</td>\n",
              "      <td>0</td>\n",
              "      <td>0</td>\n",
              "      <td>0</td>\n",
              "      <td>0</td>\n",
              "      <td>0</td>\n",
              "      <td>0</td>\n",
              "      <td>1</td>\n",
              "      <td>0</td>\n",
              "      <td>0</td>\n",
              "      <td>0</td>\n",
              "      <td>0</td>\n",
              "      <td>0</td>\n",
              "      <td>0</td>\n",
              "      <td>0</td>\n",
              "      <td>0</td>\n",
              "      <td>0</td>\n",
              "      <td>0</td>\n",
              "      <td>1</td>\n",
              "      <td>0</td>\n",
              "      <td>1</td>\n",
              "      <td>0</td>\n",
              "      <td>0</td>\n",
              "      <td>0</td>\n",
              "      <td>0</td>\n",
              "      <td>0</td>\n",
              "      <td>0</td>\n",
              "      <td>0</td>\n",
              "      <td>0</td>\n",
              "      <td>0</td>\n",
              "      <td>0</td>\n",
              "      <td>0</td>\n",
              "      <td>0</td>\n",
              "      <td>0</td>\n",
              "      <td>0</td>\n",
              "      <td>0</td>\n",
              "      <td>0</td>\n",
              "      <td>0</td>\n",
              "      <td>0</td>\n",
              "      <td>0</td>\n",
              "      <td>0</td>\n",
              "      <td>0</td>\n",
              "      <td>0</td>\n",
              "      <td>0</td>\n",
              "      <td>0</td>\n",
              "      <td>0</td>\n",
              "      <td>1</td>\n",
              "      <td>0</td>\n",
              "      <td>1</td>\n",
              "      <td>22</td>\n",
              "      <td>UNITED STATES</td>\n",
              "      <td>22.0</td>\n",
              "      <td>0.00</td>\n",
              "      <td>25</td>\n",
              "      <td>0</td>\n",
              "    </tr>\n",
              "    <tr>\n",
              "      <th>3</th>\n",
              "      <td>0</td>\n",
              "      <td>0</td>\n",
              "      <td>1</td>\n",
              "      <td>0</td>\n",
              "      <td>0</td>\n",
              "      <td>0</td>\n",
              "      <td>0</td>\n",
              "      <td>0</td>\n",
              "      <td>0</td>\n",
              "      <td>0</td>\n",
              "      <td>0</td>\n",
              "      <td>0</td>\n",
              "      <td>0</td>\n",
              "      <td>0</td>\n",
              "      <td>0</td>\n",
              "      <td>0</td>\n",
              "      <td>0</td>\n",
              "      <td>1</td>\n",
              "      <td>0</td>\n",
              "      <td>0</td>\n",
              "      <td>0</td>\n",
              "      <td>0</td>\n",
              "      <td>0</td>\n",
              "      <td>0</td>\n",
              "      <td>0</td>\n",
              "      <td>0</td>\n",
              "      <td>0</td>\n",
              "      <td>0</td>\n",
              "      <td>0</td>\n",
              "      <td>0</td>\n",
              "      <td>0</td>\n",
              "      <td>0</td>\n",
              "      <td>0</td>\n",
              "      <td>0</td>\n",
              "      <td>0</td>\n",
              "      <td>0</td>\n",
              "      <td>1</td>\n",
              "      <td>0</td>\n",
              "      <td>0</td>\n",
              "      <td>0</td>\n",
              "      <td>0</td>\n",
              "      <td>0</td>\n",
              "      <td>0</td>\n",
              "      <td>0</td>\n",
              "      <td>0</td>\n",
              "      <td>1</td>\n",
              "      <td>0</td>\n",
              "      <td>0</td>\n",
              "      <td>1</td>\n",
              "      <td>14</td>\n",
              "      <td>SINGAPORE</td>\n",
              "      <td>54.5</td>\n",
              "      <td>13.63</td>\n",
              "      <td>24</td>\n",
              "      <td>0</td>\n",
              "    </tr>\n",
              "    <tr>\n",
              "      <th>4</th>\n",
              "      <td>0</td>\n",
              "      <td>0</td>\n",
              "      <td>0</td>\n",
              "      <td>0</td>\n",
              "      <td>0</td>\n",
              "      <td>0</td>\n",
              "      <td>0</td>\n",
              "      <td>1</td>\n",
              "      <td>0</td>\n",
              "      <td>0</td>\n",
              "      <td>0</td>\n",
              "      <td>0</td>\n",
              "      <td>0</td>\n",
              "      <td>0</td>\n",
              "      <td>0</td>\n",
              "      <td>0</td>\n",
              "      <td>0</td>\n",
              "      <td>0</td>\n",
              "      <td>1</td>\n",
              "      <td>0</td>\n",
              "      <td>0</td>\n",
              "      <td>0</td>\n",
              "      <td>0</td>\n",
              "      <td>0</td>\n",
              "      <td>0</td>\n",
              "      <td>0</td>\n",
              "      <td>0</td>\n",
              "      <td>0</td>\n",
              "      <td>0</td>\n",
              "      <td>1</td>\n",
              "      <td>0</td>\n",
              "      <td>0</td>\n",
              "      <td>0</td>\n",
              "      <td>0</td>\n",
              "      <td>0</td>\n",
              "      <td>0</td>\n",
              "      <td>0</td>\n",
              "      <td>0</td>\n",
              "      <td>0</td>\n",
              "      <td>0</td>\n",
              "      <td>0</td>\n",
              "      <td>0</td>\n",
              "      <td>0</td>\n",
              "      <td>0</td>\n",
              "      <td>0</td>\n",
              "      <td>0</td>\n",
              "      <td>1</td>\n",
              "      <td>0</td>\n",
              "      <td>1</td>\n",
              "      <td>90</td>\n",
              "      <td>VIET NAM</td>\n",
              "      <td>10.0</td>\n",
              "      <td>0.00</td>\n",
              "      <td>23</td>\n",
              "      <td>0</td>\n",
              "    </tr>\n",
              "  </tbody>\n",
              "</table>\n",
              "</div>"
            ],
            "text/plain": [
              "   AG_ADM  AG_ART  AG_C2B  AG_CBH  ...  Net Sales  Commision (in value)  Age  Claim\n",
              "0       0       0       0       0  ...       19.8                 11.88   29      0\n",
              "1       0       0       0       0  ...       63.0                  0.00   36      0\n",
              "2       0       0       0       0  ...       22.0                  0.00   25      0\n",
              "3       0       0       1       0  ...       54.5                 13.63   24      0\n",
              "4       0       0       0       0  ...       10.0                  0.00   23      0\n",
              "\n",
              "[5 rows x 55 columns]"
            ]
          },
          "metadata": {
            "tags": []
          },
          "execution_count": 43
        }
      ]
    },
    {
      "cell_type": "code",
      "metadata": {
        "id": "br8UtRAmYFJ6",
        "colab": {
          "base_uri": "https://localhost:8080/"
        },
        "outputId": "b04562a1-79bc-4b54-d41d-a74f5c0e3408"
      },
      "source": [
        "X=insurance_data.drop(columns=['Claim'])\r\n",
        "y=insurance_data['Claim']\r\n",
        "encoder=TargetEncoder()\r\n",
        "encoder.fit(X,y,['Agency','Product Name', 'Gender', 'Agency Type', 'Distribution Channel','Destination'])"
      ],
      "execution_count": 78,
      "outputs": [
        {
          "output_type": "stream",
          "text": [
            "Fitting column Agency\n",
            "Fitting column Product Name\n",
            "Fitting column Gender\n",
            "Fitting column Agency Type\n",
            "Fitting column Distribution Channel\n",
            "Fitting column Destination\n"
          ],
          "name": "stdout"
        }
      ]
    },
    {
      "cell_type": "code",
      "metadata": {
        "id": "SimApNyheQdU"
      },
      "source": [
        "from sklearn.model_selection import train_test_split\r\n",
        "X_train, X_test, y_train, y_test=train_test_split(X, y, test_size=0.3, random_state=101)\r\n",
        "X_train=encoder.transform(X_train)\r\n",
        "X_test=encoder.transform(X_test)"
      ],
      "execution_count": 81,
      "outputs": []
    },
    {
      "cell_type": "code",
      "metadata": {
        "colab": {
          "base_uri": "https://localhost:8080/"
        },
        "id": "en4vmXsshFUa",
        "outputId": "231511a2-9570-424e-d2f3-c212468a2a28"
      },
      "source": [
        "# import SMOTE \r\n",
        "from imblearn.over_sampling import SMOTE\r\n",
        "\r\n",
        "sm = SMOTE(random_state = 25, sampling_strategy = 1.0)   \r\n",
        "X_trainSM, y_trainSM = sm.fit_sample(X_train, y_train)"
      ],
      "execution_count": 82,
      "outputs": [
        {
          "output_type": "stream",
          "text": [
            "/usr/local/lib/python3.6/dist-packages/sklearn/utils/deprecation.py:87: FutureWarning: Function safe_indexing is deprecated; safe_indexing is deprecated in version 0.22 and will be removed in version 0.24.\n",
            "  warnings.warn(msg, category=FutureWarning)\n"
          ],
          "name": "stderr"
        }
      ]
    },
    {
      "cell_type": "code",
      "metadata": {
        "colab": {
          "base_uri": "https://localhost:8080/"
        },
        "id": "9unGl3Mr1CwF",
        "outputId": "42bd7db7-eaa0-4834-daf9-7aec87bd9834"
      },
      "source": [
        "print(X.shape)\r\n",
        "if isinstance(X, pd.DataFrame):\r\n",
        "  print('Yes X is dataframe')"
      ],
      "execution_count": 83,
      "outputs": [
        {
          "output_type": "stream",
          "text": [
            "(48260, 10)\n",
            "Yes X is dataframe\n"
          ],
          "name": "stdout"
        }
      ]
    },
    {
      "cell_type": "code",
      "metadata": {
        "colab": {
          "base_uri": "https://localhost:8080/"
        },
        "id": "MM2xFE4rrdEk",
        "outputId": "0e3a267c-329e-4aa1-b2c0-65c8450af752"
      },
      "source": [
        "print(X_trainSM.shape)\r\n",
        "y_trainSM.sum()\r\n",
        "if isinstance(X_trainSM, pd.DataFrame):\r\n",
        "  print('Yes X_trainSM is dataframe')\r\n",
        "else:\r\n",
        "  print('No X_trainSM Not a dataframe')"
      ],
      "execution_count": 84,
      "outputs": [
        {
          "output_type": "stream",
          "text": [
            "(66538, 10)\n",
            "No X_trainSM Not a dataframe\n"
          ],
          "name": "stdout"
        }
      ]
    },
    {
      "cell_type": "code",
      "metadata": {
        "colab": {
          "base_uri": "https://localhost:8080/"
        },
        "id": "crSLeMmOrc9k",
        "outputId": "376fa319-c4d1-4d30-d31b-73b6b4568579"
      },
      "source": [
        "print(X_train.shape)\r\n",
        "y_train.sum()"
      ],
      "execution_count": 85,
      "outputs": [
        {
          "output_type": "stream",
          "text": [
            "(33782, 10)\n"
          ],
          "name": "stdout"
        },
        {
          "output_type": "execute_result",
          "data": {
            "text/plain": [
              "513"
            ]
          },
          "metadata": {
            "tags": []
          },
          "execution_count": 85
        }
      ]
    },
    {
      "cell_type": "code",
      "metadata": {
        "id": "QrvRh6zlrc6H"
      },
      "source": [
        "from sklearn.linear_model import LogisticRegression\r\n",
        "from sklearn.metrics import accuracy_score, classification_report, confusion_matrix\r\n",
        "\r\n",
        "clf1=LogisticRegression().fit(X_trainSM,y_trainSM)\r\n",
        "clf2=LogisticRegression(penalty='l2',C=0.001).fit(X_trainSM,y_trainSM)"
      ],
      "execution_count": 86,
      "outputs": []
    },
    {
      "cell_type": "code",
      "metadata": {
        "colab": {
          "base_uri": "https://localhost:8080/"
        },
        "id": "QQqFApSvrc2i",
        "outputId": "841a0cac-8c3d-4a31-ce3b-60c49b59d77d"
      },
      "source": [
        "acc1=clf1.score(X_trainSM,y_trainSM)\r\n",
        "acc1tst=clf1.score(X_test,y_test)\r\n",
        "predtrn=clf1.predict(X_trainSM)\r\n",
        "predtst=clf1.predict(X_test)\r\n",
        "\r\n",
        "\r\n",
        "acc2=clf2.score(X_trainSM,y_trainSM)\r\n",
        "acc2tst=clf2.score(X_test,y_test)\r\n",
        "predtrn2=clf2.predict(X_trainSM)\r\n",
        "predtst2=clf2.predict(X_test)\r\n",
        "\r\n",
        "\r\n",
        "print('1 Trg acc', acc1)\r\n",
        "print('1 Tst acc', acc1tst)\r\n",
        "print('1 LR Train')\r\n",
        "print(classification_report(y_trainSM,predtrn))\r\n",
        "print('1 LR Test')\r\n",
        "print(classification_report(y_test,predtst))\r\n",
        "\r\n",
        "print('2 Trg acc', acc2)\r\n",
        "print('2 Tst acc', acc2tst)\r\n",
        "print('2 LR Train')\r\n",
        "print(classification_report(y_trainSM,predtrn2))\r\n",
        "print('2 LR Test')\r\n",
        "print(classification_report(y_test,predtst2))"
      ],
      "execution_count": 88,
      "outputs": [
        {
          "output_type": "stream",
          "text": [
            "1 Trg acc 0.7632029817547867\n",
            "1 Tst acc 0.8586130681033292\n",
            "1 LR Train\n",
            "              precision    recall  f1-score   support\n",
            "\n",
            "           0       0.72      0.86      0.78     33269\n",
            "           1       0.83      0.67      0.74     33269\n",
            "\n",
            "    accuracy                           0.76     66538\n",
            "   macro avg       0.77      0.76      0.76     66538\n",
            "weighted avg       0.77      0.76      0.76     66538\n",
            "\n",
            "1 LR Test\n",
            "              precision    recall  f1-score   support\n",
            "\n",
            "           0       0.99      0.86      0.92     14283\n",
            "           1       0.06      0.63      0.11       195\n",
            "\n",
            "    accuracy                           0.86     14478\n",
            "   macro avg       0.53      0.74      0.51     14478\n",
            "weighted avg       0.98      0.86      0.91     14478\n",
            "\n",
            "2 Trg acc 0.6506507559590009\n",
            "2 Tst acc 0.8088824423262881\n",
            "2 LR Train\n",
            "              precision    recall  f1-score   support\n",
            "\n",
            "           0       0.61      0.81      0.70     33269\n",
            "           1       0.72      0.49      0.58     33269\n",
            "\n",
            "    accuracy                           0.65     66538\n",
            "   macro avg       0.67      0.65      0.64     66538\n",
            "weighted avg       0.67      0.65      0.64     66538\n",
            "\n",
            "2 LR Test\n",
            "              precision    recall  f1-score   support\n",
            "\n",
            "           0       0.99      0.81      0.89     14283\n",
            "           1       0.03      0.45      0.06       195\n",
            "\n",
            "    accuracy                           0.81     14478\n",
            "   macro avg       0.51      0.63      0.48     14478\n",
            "weighted avg       0.98      0.81      0.88     14478\n",
            "\n"
          ],
          "name": "stdout"
        }
      ]
    },
    {
      "cell_type": "code",
      "metadata": {
        "id": "8aaLj4YUrczf"
      },
      "source": [
        "from sklearn.tree import DecisionTreeClassifier\r\n",
        "\r\n",
        "# create the model object\r\n",
        "dt = DecisionTreeClassifier(random_state=1) "
      ],
      "execution_count": 102,
      "outputs": []
    },
    {
      "cell_type": "code",
      "metadata": {
        "colab": {
          "base_uri": "https://localhost:8080/"
        },
        "id": "vv_pBeNZrcwm",
        "outputId": "073e8781-65a1-4231-dde2-fdcad98cdea4"
      },
      "source": [
        "# fit the model on train data\r\n",
        "dt.fit(X_trainSM, y_trainSM)\r\n",
        "predictions_train = dt.predict(X_trainSM)\r\n",
        "#Predictions on the Test data\r\n",
        "predictions_test = dt.predict(X_test)\r\n",
        "print('Train Accuracy ',accuracy_score(y_trainSM,predictions_train))\r\n",
        "print('Test Accuracy ',accuracy_score(y_test,predictions_test))"
      ],
      "execution_count": 103,
      "outputs": [
        {
          "output_type": "stream",
          "text": [
            "Train Accuracy  0.999308665724849\n",
            "Test Accuracy  0.9634618041165907\n"
          ],
          "name": "stdout"
        }
      ]
    },
    {
      "cell_type": "code",
      "metadata": {
        "colab": {
          "base_uri": "https://localhost:8080/"
        },
        "id": "cIH5xV3drcte",
        "outputId": "047b15a8-78f4-4892-9a27-1ada43348616"
      },
      "source": [
        "print('DT Train')\r\n",
        "print(classification_report(y_trainSM,predictions_train))\r\n",
        "print('DT Test')\r\n",
        "print(classification_report(y_test,predictions_test))"
      ],
      "execution_count": 104,
      "outputs": [
        {
          "output_type": "stream",
          "text": [
            "DT Train\n",
            "              precision    recall  f1-score   support\n",
            "\n",
            "           0       1.00      1.00      1.00     33269\n",
            "           1       1.00      1.00      1.00     33269\n",
            "\n",
            "    accuracy                           1.00     66538\n",
            "   macro avg       1.00      1.00      1.00     66538\n",
            "weighted avg       1.00      1.00      1.00     66538\n",
            "\n",
            "DT Test\n",
            "              precision    recall  f1-score   support\n",
            "\n",
            "           0       0.99      0.97      0.98     14283\n",
            "           1       0.07      0.13      0.09       195\n",
            "\n",
            "    accuracy                           0.96     14478\n",
            "   macro avg       0.53      0.55      0.53     14478\n",
            "weighted avg       0.98      0.96      0.97     14478\n",
            "\n"
          ],
          "name": "stdout"
        }
      ]
    },
    {
      "cell_type": "code",
      "metadata": {
        "colab": {
          "base_uri": "https://localhost:8080/"
        },
        "id": "yNK-eP6ArcnG",
        "outputId": "7aff5d67-e0b4-47f6-beb7-ce955efc5800"
      },
      "source": [
        "from sklearn.ensemble import RandomForestClassifier\r\n",
        "rfc=RandomForestClassifier(random_state=1)\r\n",
        "rfc.fit(X_trainSM, y_trainSM)"
      ],
      "execution_count": 105,
      "outputs": [
        {
          "output_type": "execute_result",
          "data": {
            "text/plain": [
              "RandomForestClassifier(bootstrap=True, ccp_alpha=0.0, class_weight=None,\n",
              "                       criterion='gini', max_depth=None, max_features='auto',\n",
              "                       max_leaf_nodes=None, max_samples=None,\n",
              "                       min_impurity_decrease=0.0, min_impurity_split=None,\n",
              "                       min_samples_leaf=1, min_samples_split=2,\n",
              "                       min_weight_fraction_leaf=0.0, n_estimators=100,\n",
              "                       n_jobs=None, oob_score=False, random_state=1, verbose=0,\n",
              "                       warm_start=False)"
            ]
          },
          "metadata": {
            "tags": []
          },
          "execution_count": 105
        }
      ]
    },
    {
      "cell_type": "code",
      "metadata": {
        "id": "Gr1C1eYxrcc2"
      },
      "source": [
        "rfc_pred_train=rfc.predict(X_trainSM)\r\n",
        "rfc_pred_test=rfc.predict(X_test)"
      ],
      "execution_count": 108,
      "outputs": []
    },
    {
      "cell_type": "code",
      "metadata": {
        "colab": {
          "base_uri": "https://localhost:8080/"
        },
        "id": "Q3VlSGytsbmg",
        "outputId": "70a3db41-35a7-434e-c410-980ea1c9910d"
      },
      "source": [
        "print('RFC Train')\r\n",
        "print(classification_report(y_trainSM,rfc_pred_train))\r\n",
        "print('RFC Test')\r\n",
        "print(classification_report(y_test,rfc_pred_test))"
      ],
      "execution_count": 109,
      "outputs": [
        {
          "output_type": "stream",
          "text": [
            "RFC Train\n",
            "              precision    recall  f1-score   support\n",
            "\n",
            "           0       1.00      1.00      1.00     33269\n",
            "           1       1.00      1.00      1.00     33269\n",
            "\n",
            "    accuracy                           1.00     66538\n",
            "   macro avg       1.00      1.00      1.00     66538\n",
            "weighted avg       1.00      1.00      1.00     66538\n",
            "\n",
            "RFC Test\n",
            "              precision    recall  f1-score   support\n",
            "\n",
            "           0       0.99      0.99      0.99     14283\n",
            "           1       0.09      0.08      0.09       195\n",
            "\n",
            "    accuracy                           0.98     14478\n",
            "   macro avg       0.54      0.54      0.54     14478\n",
            "weighted avg       0.98      0.98      0.98     14478\n",
            "\n"
          ],
          "name": "stdout"
        }
      ]
    },
    {
      "cell_type": "code",
      "metadata": {
        "colab": {
          "base_uri": "https://localhost:8080/"
        },
        "id": "_FQrcckztPOh",
        "outputId": "cdd7f636-cfdf-40fd-e874-9c37ba0a87dd"
      },
      "source": [
        "from sklearn.model_selection import GridSearchCV\r\n",
        "parameters = {'bootstrap': [True],\r\n",
        "'max_depth': [10, 20],\r\n",
        "'min_samples_leaf': [3, 4],\r\n",
        "'min_samples_split': [4, 6],\r\n",
        "'n_estimators': [100, 200]}\r\n",
        "\r\n",
        "grid_search_1=GridSearchCV(RandomForestClassifier(random_state=1), parameters,cv=3, n_jobs = -1,verbose = 2,refit=True).fit(X_trainSM,y_trainSM)"
      ],
      "execution_count": 111,
      "outputs": [
        {
          "output_type": "stream",
          "text": [
            "Fitting 3 folds for each of 16 candidates, totalling 48 fits\n"
          ],
          "name": "stdout"
        },
        {
          "output_type": "stream",
          "text": [
            "[Parallel(n_jobs=-1)]: Using backend LokyBackend with 2 concurrent workers.\n",
            "[Parallel(n_jobs=-1)]: Done  37 tasks      | elapsed:  3.5min\n",
            "[Parallel(n_jobs=-1)]: Done  48 out of  48 | elapsed:  4.7min finished\n"
          ],
          "name": "stderr"
        }
      ]
    },
    {
      "cell_type": "code",
      "metadata": {
        "id": "tSd_4DXVtPKM",
        "colab": {
          "base_uri": "https://localhost:8080/"
        },
        "outputId": "e30157e1-9707-4930-e43d-31d9696ae2ce"
      },
      "source": [
        "gscv_rfc_test_pred=grid_search_1.predict(X_test)\r\n",
        "gscv_rfc_trn_pred=grid_search_1.predict(X_trainSM)\r\n",
        "print(\"Best parameters from GSCV\", grid_search_1.best_params_)\r\n",
        "print('GSCV RFC Train')\r\n",
        "print(classification_report(y_trainSM,gscv_rfc_trn_pred))\r\n",
        "print('GSCV RFC Test')\r\n",
        "print(classification_report(y_test,gscv_rfc_test_pred))"
      ],
      "execution_count": 112,
      "outputs": [
        {
          "output_type": "stream",
          "text": [
            "Best parameters from GSCV {'bootstrap': True, 'max_depth': 20, 'min_samples_leaf': 3, 'min_samples_split': 4, 'n_estimators': 200}\n",
            "GSCV RFC Train\n",
            "              precision    recall  f1-score   support\n",
            "\n",
            "           0       0.99      0.99      0.99     33269\n",
            "           1       0.99      0.99      0.99     33269\n",
            "\n",
            "    accuracy                           0.99     66538\n",
            "   macro avg       0.99      0.99      0.99     66538\n",
            "weighted avg       0.99      0.99      0.99     66538\n",
            "\n",
            "GSCV RFC Test\n",
            "              precision    recall  f1-score   support\n",
            "\n",
            "           0       0.99      0.98      0.98     14283\n",
            "           1       0.08      0.12      0.09       195\n",
            "\n",
            "    accuracy                           0.97     14478\n",
            "   macro avg       0.53      0.55      0.54     14478\n",
            "weighted avg       0.98      0.97      0.97     14478\n",
            "\n"
          ],
          "name": "stdout"
        }
      ]
    },
    {
      "cell_type": "code",
      "metadata": {
        "id": "QQ6XcYw-tPGd",
        "colab": {
          "base_uri": "https://localhost:8080/"
        },
        "outputId": "7ff9bb21-5486-48df-a176-87280c6522ed"
      },
      "source": [
        "import time\r\n",
        "start_time = time.time()\r\n",
        "param_grid={\"max_leaf_nodes\": [5, 10, 15, 20],\r\n",
        "              'min_samples_split': [4, 6, 8, 10]}\r\n",
        "grid_search_2= GridSearchCV(DecisionTreeClassifier(random_state=1), param_grid, cv=3,n_jobs = -1,verbose = 2,refit=True)\r\n",
        "grid_search_2.fit(X_trainSM,y_trainSM)\r\n",
        "print(\"GridSearch took %s seconds\" % (time.time() - start_time))#Time to perform gridsearchCV\r\n",
        "print(\"Best parameters from GSCV\", grid_search_2.best_params_)"
      ],
      "execution_count": 113,
      "outputs": [
        {
          "output_type": "stream",
          "text": [
            "Fitting 3 folds for each of 16 candidates, totalling 48 fits\n"
          ],
          "name": "stdout"
        },
        {
          "output_type": "stream",
          "text": [
            "[Parallel(n_jobs=-1)]: Using backend LokyBackend with 2 concurrent workers.\n",
            "[Parallel(n_jobs=-1)]: Done  48 out of  48 | elapsed:    4.3s finished\n"
          ],
          "name": "stderr"
        },
        {
          "output_type": "stream",
          "text": [
            "GridSearch took 4.568226337432861 seconds\n",
            "Best parameters from GSCV {'max_leaf_nodes': 20, 'min_samples_split': 4}\n"
          ],
          "name": "stdout"
        }
      ]
    },
    {
      "cell_type": "code",
      "metadata": {
        "id": "6a_Y84V4tPCo",
        "colab": {
          "base_uri": "https://localhost:8080/"
        },
        "outputId": "264b7e24-f420-442d-fc68-a6f839bc8203"
      },
      "source": [
        "result = grid_search_2.cv_results_\r\n",
        "#print(result)\r\n",
        "gscv_dt_test_pred=grid_search_2.predict(X_test)\r\n",
        "gscv_dt_trn_pred=grid_search_2.predict(X_trainSM)\r\n",
        "print(\"Best parameters from GSCV\", grid_search_2.best_params_)\r\n",
        "print('GSCV DT Train')\r\n",
        "print(classification_report(y_trainSM,gscv_dt_trn_pred))\r\n",
        "print('GSCV DT Test')\r\n",
        "print(classification_report(y_test,gscv_dt_test_pred))"
      ],
      "execution_count": 114,
      "outputs": [
        {
          "output_type": "stream",
          "text": [
            "Best parameters from GSCV {'max_leaf_nodes': 20, 'min_samples_split': 4}\n",
            "GSCV DT Train\n",
            "              precision    recall  f1-score   support\n",
            "\n",
            "           0       0.89      0.77      0.83     33269\n",
            "           1       0.80      0.91      0.85     33269\n",
            "\n",
            "    accuracy                           0.84     66538\n",
            "   macro avg       0.84      0.84      0.84     66538\n",
            "weighted avg       0.84      0.84      0.84     66538\n",
            "\n",
            "GSCV DT Test\n",
            "              precision    recall  f1-score   support\n",
            "\n",
            "           0       1.00      0.77      0.87     14283\n",
            "           1       0.04      0.76      0.08       195\n",
            "\n",
            "    accuracy                           0.77     14478\n",
            "   macro avg       0.52      0.77      0.48     14478\n",
            "weighted avg       0.98      0.77      0.86     14478\n",
            "\n"
          ],
          "name": "stdout"
        }
      ]
    },
    {
      "cell_type": "code",
      "metadata": {
        "id": "GHs5c1SCtO2j",
        "colab": {
          "base_uri": "https://localhost:8080/"
        },
        "outputId": "8bc93bb8-7bd3-4415-967c-d776b8e90ff2"
      },
      "source": [
        "from sklearn.feature_selection import RFE\r\n",
        "estimator=RandomForestClassifier(random_state=1)\r\n",
        "selector = RFE(estimator, step=1)\r\n",
        "selector = selector.fit(X_trainSM, y_trainSM)\r\n",
        "selector.support_\r\n",
        "\r\n",
        "estimator2=LogisticRegression(random_state=1)\r\n",
        "selector2 = RFE(estimator2, step=1)\r\n",
        "selector2 = selector2.fit(X_trainSM, y_trainSM)\r\n",
        "selector2.support_"
      ],
      "execution_count": 126,
      "outputs": [
        {
          "output_type": "execute_result",
          "data": {
            "text/plain": [
              "array([ True,  True, False,  True, False,  True, False, False,  True,\n",
              "       False])"
            ]
          },
          "metadata": {
            "tags": []
          },
          "execution_count": 126
        }
      ]
    },
    {
      "cell_type": "code",
      "metadata": {
        "id": "G79VYmX7vH53",
        "colab": {
          "base_uri": "https://localhost:8080/"
        },
        "outputId": "16f005d5-fd80-444a-e494-40d1c78e8a0d"
      },
      "source": [
        "print('Features selected : ', selector.support_.sum())"
      ],
      "execution_count": 127,
      "outputs": [
        {
          "output_type": "stream",
          "text": [
            "Features selected :  5\n"
          ],
          "name": "stdout"
        }
      ]
    },
    {
      "cell_type": "code",
      "metadata": {
        "colab": {
          "base_uri": "https://localhost:8080/"
        },
        "id": "wac0s6G_KC3J",
        "outputId": "ec2517d2-9a41-4b5d-edc3-9e7b428d8760"
      },
      "source": [
        "print('Features selected : ', selector2.support_.sum())"
      ],
      "execution_count": 128,
      "outputs": [
        {
          "output_type": "stream",
          "text": [
            "Features selected :  5\n"
          ],
          "name": "stdout"
        }
      ]
    },
    {
      "cell_type": "code",
      "metadata": {
        "id": "z1gRW4eOvH_o",
        "colab": {
          "base_uri": "https://localhost:8080/"
        },
        "outputId": "6b3ad239-506f-4f40-d434-38a040054b27"
      },
      "source": [
        "print(\"Top features are \")\r\n",
        "\r\n",
        "for i in X.columns[selector.support_]: print(i)\r\n",
        "rfe_5=[]\r\n",
        "\r\n",
        "for i in X.columns[selector.support_]:\r\n",
        "  rfe_5.append(X.columns.get_loc(i))"
      ],
      "execution_count": 129,
      "outputs": [
        {
          "output_type": "stream",
          "text": [
            "Top features are \n",
            "Agency\n",
            "Product Name\n",
            "Duration\n",
            "Destination\n",
            "Net Sales\n"
          ],
          "name": "stdout"
        }
      ]
    },
    {
      "cell_type": "code",
      "metadata": {
        "colab": {
          "base_uri": "https://localhost:8080/"
        },
        "id": "zbL8zBWbKGu4",
        "outputId": "fd3e5f70-4e77-4d31-e8c9-862bbfac20e1"
      },
      "source": [
        "print(\"Top features are \")\r\n",
        "\r\n",
        "for i in X.columns[selector2.support_]: print(i)\r\n",
        "rfe_5=[]\r\n",
        "\r\n",
        "for i in X.columns[selector2.support_]:\r\n",
        "  rfe_5.append(X.columns.get_loc(i))"
      ],
      "execution_count": 130,
      "outputs": [
        {
          "output_type": "stream",
          "text": [
            "Top features are \n",
            "Agency\n",
            "Agency Type\n",
            "Product Name\n",
            "Destination\n",
            "Gender\n"
          ],
          "name": "stdout"
        }
      ]
    },
    {
      "cell_type": "code",
      "metadata": {
        "id": "nfjmxGJsRRqq",
        "colab": {
          "base_uri": "https://localhost:8080/"
        },
        "outputId": "d223080c-8467-407a-b681-4fa4d7a9a15d"
      },
      "source": [
        "print(rfe_5)\r\n",
        "selector.ranking_"
      ],
      "execution_count": 131,
      "outputs": [
        {
          "output_type": "stream",
          "text": [
            "[0, 1, 3, 5, 8]\n"
          ],
          "name": "stdout"
        },
        {
          "output_type": "execute_result",
          "data": {
            "text/plain": [
              "array([1, 5, 6, 1, 1, 1, 1, 4, 2, 3])"
            ]
          },
          "metadata": {
            "tags": []
          },
          "execution_count": 131
        }
      ]
    },
    {
      "cell_type": "code",
      "metadata": {
        "id": "Zz6Dm2cqRonr",
        "colab": {
          "base_uri": "https://localhost:8080/"
        },
        "outputId": "21435773-5fe4-4334-dcdd-615f647588c6"
      },
      "source": [
        "print('RFC RFE Train')\r\n",
        "print(classification_report(y_trainSM,selector.predict(X_trainSM)))\r\n",
        "print('RFC RFE Test')\r\n",
        "print(classification_report(y_test,selector.predict(X_test)))"
      ],
      "execution_count": 132,
      "outputs": [
        {
          "output_type": "stream",
          "text": [
            "RFC RFE Train\n",
            "              precision    recall  f1-score   support\n",
            "\n",
            "           0       1.00      0.99      0.99     33269\n",
            "           1       0.99      1.00      0.99     33269\n",
            "\n",
            "    accuracy                           0.99     66538\n",
            "   macro avg       0.99      0.99      0.99     66538\n",
            "weighted avg       0.99      0.99      0.99     66538\n",
            "\n",
            "RFC RFE Test\n",
            "              precision    recall  f1-score   support\n",
            "\n",
            "           0       0.99      0.98      0.98     14283\n",
            "           1       0.09      0.15      0.11       195\n",
            "\n",
            "    accuracy                           0.97     14478\n",
            "   macro avg       0.54      0.57      0.55     14478\n",
            "weighted avg       0.98      0.97      0.97     14478\n",
            "\n"
          ],
          "name": "stdout"
        }
      ]
    },
    {
      "cell_type": "code",
      "metadata": {
        "colab": {
          "base_uri": "https://localhost:8080/"
        },
        "id": "_H1IB-FJKS_h",
        "outputId": "89706ba4-88dc-4769-f074-e24b9f42826d"
      },
      "source": [
        "print('LR RFE Train')\r\n",
        "print(classification_report(y_trainSM,selector2.predict(X_trainSM)))\r\n",
        "print('LR RFE Test')\r\n",
        "print(classification_report(y_test,selector2.predict(X_test)))"
      ],
      "execution_count": 133,
      "outputs": [
        {
          "output_type": "stream",
          "text": [
            "LR RFE Train\n",
            "              precision    recall  f1-score   support\n",
            "\n",
            "           0       0.72      0.87      0.78     33269\n",
            "           1       0.83      0.66      0.73     33269\n",
            "\n",
            "    accuracy                           0.76     66538\n",
            "   macro avg       0.77      0.76      0.76     66538\n",
            "weighted avg       0.77      0.76      0.76     66538\n",
            "\n",
            "LR RFE Test\n",
            "              precision    recall  f1-score   support\n",
            "\n",
            "           0       0.99      0.87      0.93     14283\n",
            "           1       0.06      0.62      0.11       195\n",
            "\n",
            "    accuracy                           0.86     14478\n",
            "   macro avg       0.53      0.74      0.52     14478\n",
            "weighted avg       0.98      0.86      0.91     14478\n",
            "\n"
          ],
          "name": "stdout"
        }
      ]
    },
    {
      "cell_type": "code",
      "metadata": {
        "colab": {
          "base_uri": "https://localhost:8080/",
          "height": 204
        },
        "id": "wAQBtGDR_gJ_",
        "outputId": "de52bbb4-0f5d-4dcb-ac1e-1b685c0da4a9"
      },
      "source": [
        "test_data.head()"
      ],
      "execution_count": 120,
      "outputs": [
        {
          "output_type": "execute_result",
          "data": {
            "text/html": [
              "<div>\n",
              "<style scoped>\n",
              "    .dataframe tbody tr th:only-of-type {\n",
              "        vertical-align: middle;\n",
              "    }\n",
              "\n",
              "    .dataframe tbody tr th {\n",
              "        vertical-align: top;\n",
              "    }\n",
              "\n",
              "    .dataframe thead th {\n",
              "        text-align: right;\n",
              "    }\n",
              "</style>\n",
              "<table border=\"1\" class=\"dataframe\">\n",
              "  <thead>\n",
              "    <tr style=\"text-align: right;\">\n",
              "      <th></th>\n",
              "      <th>Agency</th>\n",
              "      <th>Agency Type</th>\n",
              "      <th>Distribution Channel</th>\n",
              "      <th>Product Name</th>\n",
              "      <th>Duration</th>\n",
              "      <th>Destination</th>\n",
              "      <th>Net Sales</th>\n",
              "      <th>Commision (in value)</th>\n",
              "      <th>Gender</th>\n",
              "      <th>Age</th>\n",
              "    </tr>\n",
              "  </thead>\n",
              "  <tbody>\n",
              "    <tr>\n",
              "      <th>0</th>\n",
              "      <td>EPX</td>\n",
              "      <td>Travel Agency</td>\n",
              "      <td>Online</td>\n",
              "      <td>Cancellation Plan</td>\n",
              "      <td>24</td>\n",
              "      <td>HONG KONG</td>\n",
              "      <td>27.0</td>\n",
              "      <td>0.0</td>\n",
              "      <td>NaN</td>\n",
              "      <td>36</td>\n",
              "    </tr>\n",
              "    <tr>\n",
              "      <th>1</th>\n",
              "      <td>EPX</td>\n",
              "      <td>Travel Agency</td>\n",
              "      <td>Online</td>\n",
              "      <td>Cancellation Plan</td>\n",
              "      <td>51</td>\n",
              "      <td>JAPAN</td>\n",
              "      <td>45.0</td>\n",
              "      <td>0.0</td>\n",
              "      <td>NaN</td>\n",
              "      <td>36</td>\n",
              "    </tr>\n",
              "    <tr>\n",
              "      <th>2</th>\n",
              "      <td>EPX</td>\n",
              "      <td>Travel Agency</td>\n",
              "      <td>Online</td>\n",
              "      <td>Cancellation Plan</td>\n",
              "      <td>52</td>\n",
              "      <td>JAPAN</td>\n",
              "      <td>21.0</td>\n",
              "      <td>0.0</td>\n",
              "      <td>NaN</td>\n",
              "      <td>21</td>\n",
              "    </tr>\n",
              "    <tr>\n",
              "      <th>3</th>\n",
              "      <td>EPX</td>\n",
              "      <td>Travel Agency</td>\n",
              "      <td>Online</td>\n",
              "      <td>Cancellation Plan</td>\n",
              "      <td>89</td>\n",
              "      <td>SINGAPORE</td>\n",
              "      <td>11.0</td>\n",
              "      <td>0.0</td>\n",
              "      <td>NaN</td>\n",
              "      <td>30</td>\n",
              "    </tr>\n",
              "    <tr>\n",
              "      <th>4</th>\n",
              "      <td>EPX</td>\n",
              "      <td>Travel Agency</td>\n",
              "      <td>Online</td>\n",
              "      <td>Cancellation Plan</td>\n",
              "      <td>5</td>\n",
              "      <td>MALAYSIA</td>\n",
              "      <td>10.0</td>\n",
              "      <td>0.0</td>\n",
              "      <td>NaN</td>\n",
              "      <td>33</td>\n",
              "    </tr>\n",
              "  </tbody>\n",
              "</table>\n",
              "</div>"
            ],
            "text/plain": [
              "  Agency    Agency Type Distribution Channel  ... Commision (in value)  Gender Age\n",
              "0    EPX  Travel Agency               Online  ...                  0.0     NaN  36\n",
              "1    EPX  Travel Agency               Online  ...                  0.0     NaN  36\n",
              "2    EPX  Travel Agency               Online  ...                  0.0     NaN  21\n",
              "3    EPX  Travel Agency               Online  ...                  0.0     NaN  30\n",
              "4    EPX  Travel Agency               Online  ...                  0.0     NaN  33\n",
              "\n",
              "[5 rows x 10 columns]"
            ]
          },
          "metadata": {
            "tags": []
          },
          "execution_count": 120
        }
      ]
    },
    {
      "cell_type": "code",
      "metadata": {
        "colab": {
          "base_uri": "https://localhost:8080/",
          "height": 221
        },
        "id": "TMLN7X06_uAl",
        "outputId": "ac12d194-72da-4a1d-92bd-ec7b077529db"
      },
      "source": [
        "# Take a look at the test data\r\n",
        "test_data.head()\r\n",
        "My_test=encoder.transform(test_data)\r\n",
        "print(My_test.shape)\r\n",
        "My_test.head()"
      ],
      "execution_count": 121,
      "outputs": [
        {
          "output_type": "stream",
          "text": [
            "(15832, 10)\n"
          ],
          "name": "stdout"
        },
        {
          "output_type": "execute_result",
          "data": {
            "text/html": [
              "<div>\n",
              "<style scoped>\n",
              "    .dataframe tbody tr th:only-of-type {\n",
              "        vertical-align: middle;\n",
              "    }\n",
              "\n",
              "    .dataframe tbody tr th {\n",
              "        vertical-align: top;\n",
              "    }\n",
              "\n",
              "    .dataframe thead th {\n",
              "        text-align: right;\n",
              "    }\n",
              "</style>\n",
              "<table border=\"1\" class=\"dataframe\">\n",
              "  <thead>\n",
              "    <tr style=\"text-align: right;\">\n",
              "      <th></th>\n",
              "      <th>Agency</th>\n",
              "      <th>Agency Type</th>\n",
              "      <th>Distribution Channel</th>\n",
              "      <th>Product Name</th>\n",
              "      <th>Duration</th>\n",
              "      <th>Destination</th>\n",
              "      <th>Net Sales</th>\n",
              "      <th>Commision (in value)</th>\n",
              "      <th>Gender</th>\n",
              "      <th>Age</th>\n",
              "    </tr>\n",
              "  </thead>\n",
              "  <tbody>\n",
              "    <tr>\n",
              "      <th>0</th>\n",
              "      <td>0.005803</td>\n",
              "      <td>0.007418</td>\n",
              "      <td>0.014631</td>\n",
              "      <td>0.002605</td>\n",
              "      <td>24</td>\n",
              "      <td>0.005464</td>\n",
              "      <td>27.0</td>\n",
              "      <td>0.0</td>\n",
              "      <td>0.014671</td>\n",
              "      <td>36</td>\n",
              "    </tr>\n",
              "    <tr>\n",
              "      <th>1</th>\n",
              "      <td>0.005803</td>\n",
              "      <td>0.007418</td>\n",
              "      <td>0.014631</td>\n",
              "      <td>0.002605</td>\n",
              "      <td>51</td>\n",
              "      <td>0.006884</td>\n",
              "      <td>45.0</td>\n",
              "      <td>0.0</td>\n",
              "      <td>0.014671</td>\n",
              "      <td>36</td>\n",
              "    </tr>\n",
              "    <tr>\n",
              "      <th>2</th>\n",
              "      <td>0.005803</td>\n",
              "      <td>0.007418</td>\n",
              "      <td>0.014631</td>\n",
              "      <td>0.002605</td>\n",
              "      <td>52</td>\n",
              "      <td>0.006884</td>\n",
              "      <td>21.0</td>\n",
              "      <td>0.0</td>\n",
              "      <td>0.014671</td>\n",
              "      <td>21</td>\n",
              "    </tr>\n",
              "    <tr>\n",
              "      <th>3</th>\n",
              "      <td>0.005803</td>\n",
              "      <td>0.007418</td>\n",
              "      <td>0.014631</td>\n",
              "      <td>0.002605</td>\n",
              "      <td>89</td>\n",
              "      <td>0.042312</td>\n",
              "      <td>11.0</td>\n",
              "      <td>0.0</td>\n",
              "      <td>0.014671</td>\n",
              "      <td>30</td>\n",
              "    </tr>\n",
              "    <tr>\n",
              "      <th>4</th>\n",
              "      <td>0.005803</td>\n",
              "      <td>0.007418</td>\n",
              "      <td>0.014631</td>\n",
              "      <td>0.002605</td>\n",
              "      <td>5</td>\n",
              "      <td>0.003795</td>\n",
              "      <td>10.0</td>\n",
              "      <td>0.0</td>\n",
              "      <td>0.014671</td>\n",
              "      <td>33</td>\n",
              "    </tr>\n",
              "  </tbody>\n",
              "</table>\n",
              "</div>"
            ],
            "text/plain": [
              "     Agency  Agency Type  ...    Gender  Age\n",
              "0  0.005803     0.007418  ...  0.014671   36\n",
              "1  0.005803     0.007418  ...  0.014671   36\n",
              "2  0.005803     0.007418  ...  0.014671   21\n",
              "3  0.005803     0.007418  ...  0.014671   30\n",
              "4  0.005803     0.007418  ...  0.014671   33\n",
              "\n",
              "[5 rows x 10 columns]"
            ]
          },
          "metadata": {
            "tags": []
          },
          "execution_count": 121
        }
      ]
    },
    {
      "cell_type": "code",
      "metadata": {
        "colab": {
          "base_uri": "https://localhost:8080/"
        },
        "id": "3BlRlrgrChfQ",
        "outputId": "dac3c8f0-e5b4-48bd-c65c-f02982a5c429"
      },
      "source": [
        "#LR Results\r\n",
        "My_test_LR1_pred=clf1.predict(My_test)\r\n",
        "My_test_LR2_pred=clf2.predict(My_test)\r\n",
        "My_test_LR1_pred"
      ],
      "execution_count": 93,
      "outputs": [
        {
          "output_type": "execute_result",
          "data": {
            "text/plain": [
              "2374"
            ]
          },
          "metadata": {
            "tags": []
          },
          "execution_count": 93
        }
      ]
    },
    {
      "cell_type": "code",
      "metadata": {
        "colab": {
          "base_uri": "https://localhost:8080/",
          "height": 17
        },
        "id": "RpT4PakeDgFA",
        "outputId": "ac0337da-7ea0-4a66-b2f9-abea832e0856"
      },
      "source": [
        "print('------------------------- LR 1 Pred ----------------------------')\r\n",
        "# To create Dataframe of predicted value with particular respective index\r\n",
        "res = pd.DataFrame(My_test_LR1_pred) #preditcions are nothing but the final predictions of your model on input features of your new unseen test data\r\n",
        "res.index = My_test.index # its important for comparison. Here \"test_new\" is your new test dataset\r\n",
        "res.columns = [\"prediction\"]\r\n",
        "\r\n",
        "#LR 1 prediction\r\n",
        "# To download the csv file locally\r\n",
        "from google.colab import files\r\n",
        "res.to_csv('prediction_results.csv', index=False)         \r\n",
        "files.download('prediction_results.csv')\r\n"
      ],
      "execution_count": 99,
      "outputs": [
        {
          "output_type": "display_data",
          "data": {
            "application/javascript": [
              "\n",
              "    async function download(id, filename, size) {\n",
              "      if (!google.colab.kernel.accessAllowed) {\n",
              "        return;\n",
              "      }\n",
              "      const div = document.createElement('div');\n",
              "      const label = document.createElement('label');\n",
              "      label.textContent = `Downloading \"${filename}\": `;\n",
              "      div.appendChild(label);\n",
              "      const progress = document.createElement('progress');\n",
              "      progress.max = size;\n",
              "      div.appendChild(progress);\n",
              "      document.body.appendChild(div);\n",
              "\n",
              "      const buffers = [];\n",
              "      let downloaded = 0;\n",
              "\n",
              "      const channel = await google.colab.kernel.comms.open(id);\n",
              "      // Send a message to notify the kernel that we're ready.\n",
              "      channel.send({})\n",
              "\n",
              "      for await (const message of channel.messages) {\n",
              "        // Send a message to notify the kernel that we're ready.\n",
              "        channel.send({})\n",
              "        if (message.buffers) {\n",
              "          for (const buffer of message.buffers) {\n",
              "            buffers.push(buffer);\n",
              "            downloaded += buffer.byteLength;\n",
              "            progress.value = downloaded;\n",
              "          }\n",
              "        }\n",
              "      }\n",
              "      const blob = new Blob(buffers, {type: 'application/binary'});\n",
              "      const a = document.createElement('a');\n",
              "      a.href = window.URL.createObjectURL(blob);\n",
              "      a.download = filename;\n",
              "      div.appendChild(a);\n",
              "      a.click();\n",
              "      div.remove();\n",
              "    }\n",
              "  "
            ],
            "text/plain": [
              "<IPython.core.display.Javascript object>"
            ]
          },
          "metadata": {
            "tags": []
          }
        },
        {
          "output_type": "display_data",
          "data": {
            "application/javascript": [
              "download(\"download_c1e58856-3abc-4f8d-9e0a-b726132359b2\", \"prediction_results.csv\", 31675)"
            ],
            "text/plain": [
              "<IPython.core.display.Javascript object>"
            ]
          },
          "metadata": {
            "tags": []
          }
        }
      ]
    },
    {
      "cell_type": "code",
      "metadata": {
        "colab": {
          "base_uri": "https://localhost:8080/",
          "height": 34
        },
        "id": "yVHViNN_Fepi",
        "outputId": "2a06cf53-fe42-4c2a-f8a9-fdb4765eae1b"
      },
      "source": [
        "print('------------------------- LR 2 Pred ----------------------------')\r\n",
        "# To create Dataframe of predicted value with particular respective index\r\n",
        "res = pd.DataFrame(My_test_LR2_pred) #preditcions are nothing but the final predictions of your model on input features of your new unseen test data\r\n",
        "res.index = My_test.index # its important for comparison. Here \"test_new\" is your new test dataset\r\n",
        "res.columns = [\"prediction\"]\r\n",
        "\r\n",
        "#LR 1 prediction\r\n",
        "# To download the csv file locally\r\n",
        "from google.colab import files\r\n",
        "res.to_csv('prediction_results.csv', index=False)         \r\n",
        "files.download('prediction_results.csv')\r\n"
      ],
      "execution_count": 101,
      "outputs": [
        {
          "output_type": "stream",
          "text": [
            "------------------------- LR 2 Pred ----------------------------\n"
          ],
          "name": "stdout"
        },
        {
          "output_type": "display_data",
          "data": {
            "application/javascript": [
              "\n",
              "    async function download(id, filename, size) {\n",
              "      if (!google.colab.kernel.accessAllowed) {\n",
              "        return;\n",
              "      }\n",
              "      const div = document.createElement('div');\n",
              "      const label = document.createElement('label');\n",
              "      label.textContent = `Downloading \"${filename}\": `;\n",
              "      div.appendChild(label);\n",
              "      const progress = document.createElement('progress');\n",
              "      progress.max = size;\n",
              "      div.appendChild(progress);\n",
              "      document.body.appendChild(div);\n",
              "\n",
              "      const buffers = [];\n",
              "      let downloaded = 0;\n",
              "\n",
              "      const channel = await google.colab.kernel.comms.open(id);\n",
              "      // Send a message to notify the kernel that we're ready.\n",
              "      channel.send({})\n",
              "\n",
              "      for await (const message of channel.messages) {\n",
              "        // Send a message to notify the kernel that we're ready.\n",
              "        channel.send({})\n",
              "        if (message.buffers) {\n",
              "          for (const buffer of message.buffers) {\n",
              "            buffers.push(buffer);\n",
              "            downloaded += buffer.byteLength;\n",
              "            progress.value = downloaded;\n",
              "          }\n",
              "        }\n",
              "      }\n",
              "      const blob = new Blob(buffers, {type: 'application/binary'});\n",
              "      const a = document.createElement('a');\n",
              "      a.href = window.URL.createObjectURL(blob);\n",
              "      a.download = filename;\n",
              "      div.appendChild(a);\n",
              "      a.click();\n",
              "      div.remove();\n",
              "    }\n",
              "  "
            ],
            "text/plain": [
              "<IPython.core.display.Javascript object>"
            ]
          },
          "metadata": {
            "tags": []
          }
        },
        {
          "output_type": "display_data",
          "data": {
            "application/javascript": [
              "download(\"download_bd0f4a92-0f08-4e5a-a864-3ffd4c80871f\", \"prediction_results.csv\", 31675)"
            ],
            "text/plain": [
              "<IPython.core.display.Javascript object>"
            ]
          },
          "metadata": {
            "tags": []
          }
        }
      ]
    },
    {
      "cell_type": "code",
      "metadata": {
        "colab": {
          "base_uri": "https://localhost:8080/",
          "height": 34
        },
        "id": "YiTcs0CYGGPG",
        "outputId": "705e2dc3-16aa-45d5-e2ec-23408419059a"
      },
      "source": [
        "print('------------------------- DT Pred ----------------------------')\r\n",
        "My_test_DT_pred = dt.predict(My_test)\r\n",
        "# To create Dataframe of predicted value with particular respective index\r\n",
        "res = pd.DataFrame(My_test_DT_pred) #preditcions are nothing but the final predictions of your model on input features of your new unseen test data\r\n",
        "res.index = My_test.index # its important for comparison. Here \"test_new\" is your new test dataset\r\n",
        "res.columns = [\"prediction\"]\r\n",
        "\r\n",
        "#LR 1 prediction\r\n",
        "# To download the csv file locally\r\n",
        "from google.colab import files\r\n",
        "res.to_csv('prediction_results.csv', index=False)         \r\n",
        "files.download('prediction_results.csv')\r\n"
      ],
      "execution_count": 107,
      "outputs": [
        {
          "output_type": "stream",
          "text": [
            "------------------------- DT Pred ----------------------------\n"
          ],
          "name": "stdout"
        },
        {
          "output_type": "display_data",
          "data": {
            "application/javascript": [
              "\n",
              "    async function download(id, filename, size) {\n",
              "      if (!google.colab.kernel.accessAllowed) {\n",
              "        return;\n",
              "      }\n",
              "      const div = document.createElement('div');\n",
              "      const label = document.createElement('label');\n",
              "      label.textContent = `Downloading \"${filename}\": `;\n",
              "      div.appendChild(label);\n",
              "      const progress = document.createElement('progress');\n",
              "      progress.max = size;\n",
              "      div.appendChild(progress);\n",
              "      document.body.appendChild(div);\n",
              "\n",
              "      const buffers = [];\n",
              "      let downloaded = 0;\n",
              "\n",
              "      const channel = await google.colab.kernel.comms.open(id);\n",
              "      // Send a message to notify the kernel that we're ready.\n",
              "      channel.send({})\n",
              "\n",
              "      for await (const message of channel.messages) {\n",
              "        // Send a message to notify the kernel that we're ready.\n",
              "        channel.send({})\n",
              "        if (message.buffers) {\n",
              "          for (const buffer of message.buffers) {\n",
              "            buffers.push(buffer);\n",
              "            downloaded += buffer.byteLength;\n",
              "            progress.value = downloaded;\n",
              "          }\n",
              "        }\n",
              "      }\n",
              "      const blob = new Blob(buffers, {type: 'application/binary'});\n",
              "      const a = document.createElement('a');\n",
              "      a.href = window.URL.createObjectURL(blob);\n",
              "      a.download = filename;\n",
              "      div.appendChild(a);\n",
              "      a.click();\n",
              "      div.remove();\n",
              "    }\n",
              "  "
            ],
            "text/plain": [
              "<IPython.core.display.Javascript object>"
            ]
          },
          "metadata": {
            "tags": []
          }
        },
        {
          "output_type": "display_data",
          "data": {
            "application/javascript": [
              "download(\"download_f7222dca-35e3-4018-b0d4-3f5bfeaef54e\", \"prediction_results.csv\", 31675)"
            ],
            "text/plain": [
              "<IPython.core.display.Javascript object>"
            ]
          },
          "metadata": {
            "tags": []
          }
        }
      ]
    },
    {
      "cell_type": "code",
      "metadata": {
        "colab": {
          "base_uri": "https://localhost:8080/",
          "height": 34
        },
        "id": "cOCLzRGeG3AE",
        "outputId": "c78bb422-33cd-400a-d4ff-b336538ce762"
      },
      "source": [
        "print('------------------------- RF without GSCV Pred ----------------------------')\r\n",
        "My_test_RF_pred = rfc.predict(My_test)\r\n",
        "# To create Dataframe of predicted value with particular respective index\r\n",
        "res = pd.DataFrame(My_test_RF_pred) #preditcions are nothing but the final predictions of your model on input features of your new unseen test data\r\n",
        "res.index = My_test.index # its important for comparison. Here \"test_new\" is your new test dataset\r\n",
        "res.columns = [\"prediction\"]\r\n",
        "\r\n",
        "#LR 1 prediction\r\n",
        "# To download the csv file locally\r\n",
        "from google.colab import files\r\n",
        "res.to_csv('prediction_results.csv', index=False)         \r\n",
        "files.download('prediction_results.csv')"
      ],
      "execution_count": 110,
      "outputs": [
        {
          "output_type": "stream",
          "text": [
            "------------------------- DT Pred ----------------------------\n"
          ],
          "name": "stdout"
        },
        {
          "output_type": "display_data",
          "data": {
            "application/javascript": [
              "\n",
              "    async function download(id, filename, size) {\n",
              "      if (!google.colab.kernel.accessAllowed) {\n",
              "        return;\n",
              "      }\n",
              "      const div = document.createElement('div');\n",
              "      const label = document.createElement('label');\n",
              "      label.textContent = `Downloading \"${filename}\": `;\n",
              "      div.appendChild(label);\n",
              "      const progress = document.createElement('progress');\n",
              "      progress.max = size;\n",
              "      div.appendChild(progress);\n",
              "      document.body.appendChild(div);\n",
              "\n",
              "      const buffers = [];\n",
              "      let downloaded = 0;\n",
              "\n",
              "      const channel = await google.colab.kernel.comms.open(id);\n",
              "      // Send a message to notify the kernel that we're ready.\n",
              "      channel.send({})\n",
              "\n",
              "      for await (const message of channel.messages) {\n",
              "        // Send a message to notify the kernel that we're ready.\n",
              "        channel.send({})\n",
              "        if (message.buffers) {\n",
              "          for (const buffer of message.buffers) {\n",
              "            buffers.push(buffer);\n",
              "            downloaded += buffer.byteLength;\n",
              "            progress.value = downloaded;\n",
              "          }\n",
              "        }\n",
              "      }\n",
              "      const blob = new Blob(buffers, {type: 'application/binary'});\n",
              "      const a = document.createElement('a');\n",
              "      a.href = window.URL.createObjectURL(blob);\n",
              "      a.download = filename;\n",
              "      div.appendChild(a);\n",
              "      a.click();\n",
              "      div.remove();\n",
              "    }\n",
              "  "
            ],
            "text/plain": [
              "<IPython.core.display.Javascript object>"
            ]
          },
          "metadata": {
            "tags": []
          }
        },
        {
          "output_type": "display_data",
          "data": {
            "application/javascript": [
              "download(\"download_0e9264b1-10e5-42d7-96e3-85b4dce135d3\", \"prediction_results.csv\", 31675)"
            ],
            "text/plain": [
              "<IPython.core.display.Javascript object>"
            ]
          },
          "metadata": {
            "tags": []
          }
        }
      ]
    },
    {
      "cell_type": "code",
      "metadata": {
        "colab": {
          "base_uri": "https://localhost:8080/",
          "height": 34
        },
        "id": "7iOlNk54H_Xj",
        "outputId": "44bf31a9-3c92-4d95-c1ea-11c087568bec"
      },
      "source": [
        "print('-------------------------  DT with GSCV  Pred ----------------------------')\r\n",
        "My_test_DTGSCV_pred = grid_search_2.predict(My_test)\r\n",
        "# To create Dataframe of predicted value with particular respective index\r\n",
        "res = pd.DataFrame(My_test_DTGSCV_pred) #preditcions are nothing but the final predictions of your model on input features of your new unseen test data\r\n",
        "res.index = My_test.index # its important for comparison. Here \"test_new\" is your new test dataset\r\n",
        "res.columns = [\"prediction\"]\r\n",
        "\r\n",
        "#LR 1 prediction\r\n",
        "# To download the csv file locally\r\n",
        "from google.colab import files\r\n",
        "res.to_csv('prediction_results.csv', index=False)         \r\n",
        "files.download('prediction_results.csv')"
      ],
      "execution_count": 122,
      "outputs": [
        {
          "output_type": "stream",
          "text": [
            "-------------------------  DT with GSCV  Pred ----------------------------\n"
          ],
          "name": "stdout"
        },
        {
          "output_type": "display_data",
          "data": {
            "application/javascript": [
              "\n",
              "    async function download(id, filename, size) {\n",
              "      if (!google.colab.kernel.accessAllowed) {\n",
              "        return;\n",
              "      }\n",
              "      const div = document.createElement('div');\n",
              "      const label = document.createElement('label');\n",
              "      label.textContent = `Downloading \"${filename}\": `;\n",
              "      div.appendChild(label);\n",
              "      const progress = document.createElement('progress');\n",
              "      progress.max = size;\n",
              "      div.appendChild(progress);\n",
              "      document.body.appendChild(div);\n",
              "\n",
              "      const buffers = [];\n",
              "      let downloaded = 0;\n",
              "\n",
              "      const channel = await google.colab.kernel.comms.open(id);\n",
              "      // Send a message to notify the kernel that we're ready.\n",
              "      channel.send({})\n",
              "\n",
              "      for await (const message of channel.messages) {\n",
              "        // Send a message to notify the kernel that we're ready.\n",
              "        channel.send({})\n",
              "        if (message.buffers) {\n",
              "          for (const buffer of message.buffers) {\n",
              "            buffers.push(buffer);\n",
              "            downloaded += buffer.byteLength;\n",
              "            progress.value = downloaded;\n",
              "          }\n",
              "        }\n",
              "      }\n",
              "      const blob = new Blob(buffers, {type: 'application/binary'});\n",
              "      const a = document.createElement('a');\n",
              "      a.href = window.URL.createObjectURL(blob);\n",
              "      a.download = filename;\n",
              "      div.appendChild(a);\n",
              "      a.click();\n",
              "      div.remove();\n",
              "    }\n",
              "  "
            ],
            "text/plain": [
              "<IPython.core.display.Javascript object>"
            ]
          },
          "metadata": {
            "tags": []
          }
        },
        {
          "output_type": "display_data",
          "data": {
            "application/javascript": [
              "download(\"download_5854add9-5002-4e44-839d-4b3285524f19\", \"prediction_results.csv\", 31675)"
            ],
            "text/plain": [
              "<IPython.core.display.Javascript object>"
            ]
          },
          "metadata": {
            "tags": []
          }
        }
      ]
    },
    {
      "cell_type": "code",
      "metadata": {
        "colab": {
          "base_uri": "https://localhost:8080/",
          "height": 34
        },
        "id": "ObPwZkwCHZvP",
        "outputId": "09926cee-5bfc-4025-cad6-030262c830c9"
      },
      "source": [
        "print('-------------------------  RF with GSCV  Pred ----------------------------')\r\n",
        "My_test_RFGSCV_pred = grid_search_1.predict(My_test)\r\n",
        "# To create Dataframe of predicted value with particular respective index\r\n",
        "res = pd.DataFrame(My_test_RFGSCV_pred) #preditcions are nothing but the final predictions of your model on input features of your new unseen test data\r\n",
        "res.index = My_test.index # its important for comparison. Here \"test_new\" is your new test dataset\r\n",
        "res.columns = [\"prediction\"]\r\n",
        "\r\n",
        "#LR 1 prediction\r\n",
        "# To download the csv file locally\r\n",
        "from google.colab import files\r\n",
        "res.to_csv('prediction_results.csv', index=False)         \r\n",
        "files.download('prediction_results.csv')"
      ],
      "execution_count": 123,
      "outputs": [
        {
          "output_type": "stream",
          "text": [
            "-------------------------  RF with GSCV  Pred ----------------------------\n"
          ],
          "name": "stdout"
        },
        {
          "output_type": "display_data",
          "data": {
            "application/javascript": [
              "\n",
              "    async function download(id, filename, size) {\n",
              "      if (!google.colab.kernel.accessAllowed) {\n",
              "        return;\n",
              "      }\n",
              "      const div = document.createElement('div');\n",
              "      const label = document.createElement('label');\n",
              "      label.textContent = `Downloading \"${filename}\": `;\n",
              "      div.appendChild(label);\n",
              "      const progress = document.createElement('progress');\n",
              "      progress.max = size;\n",
              "      div.appendChild(progress);\n",
              "      document.body.appendChild(div);\n",
              "\n",
              "      const buffers = [];\n",
              "      let downloaded = 0;\n",
              "\n",
              "      const channel = await google.colab.kernel.comms.open(id);\n",
              "      // Send a message to notify the kernel that we're ready.\n",
              "      channel.send({})\n",
              "\n",
              "      for await (const message of channel.messages) {\n",
              "        // Send a message to notify the kernel that we're ready.\n",
              "        channel.send({})\n",
              "        if (message.buffers) {\n",
              "          for (const buffer of message.buffers) {\n",
              "            buffers.push(buffer);\n",
              "            downloaded += buffer.byteLength;\n",
              "            progress.value = downloaded;\n",
              "          }\n",
              "        }\n",
              "      }\n",
              "      const blob = new Blob(buffers, {type: 'application/binary'});\n",
              "      const a = document.createElement('a');\n",
              "      a.href = window.URL.createObjectURL(blob);\n",
              "      a.download = filename;\n",
              "      div.appendChild(a);\n",
              "      a.click();\n",
              "      div.remove();\n",
              "    }\n",
              "  "
            ],
            "text/plain": [
              "<IPython.core.display.Javascript object>"
            ]
          },
          "metadata": {
            "tags": []
          }
        },
        {
          "output_type": "display_data",
          "data": {
            "application/javascript": [
              "download(\"download_134fd5d5-614c-45d1-a978-2e4c1e974d07\", \"prediction_results.csv\", 31675)"
            ],
            "text/plain": [
              "<IPython.core.display.Javascript object>"
            ]
          },
          "metadata": {
            "tags": []
          }
        }
      ]
    },
    {
      "cell_type": "code",
      "metadata": {
        "colab": {
          "base_uri": "https://localhost:8080/",
          "height": 34
        },
        "id": "pU8apGQKJaKd",
        "outputId": "41450ac3-b352-4857-a16a-b79c56c54177"
      },
      "source": [
        "print('-------------------------  RFE with RF  Pred ----------------------------')\r\n",
        "My_test_RFERF_pred = selector.predict(My_test)\r\n",
        "# To create Dataframe of predicted value with particular respective index\r\n",
        "res = pd.DataFrame(My_test_RFERF_pred) #preditcions are nothing but the final predictions of your model on input features of your new unseen test data\r\n",
        "res.index = My_test.index # its important for comparison. Here \"test_new\" is your new test dataset\r\n",
        "res.columns = [\"prediction\"]\r\n",
        "\r\n",
        "#LR 1 prediction\r\n",
        "# To download the csv file locally\r\n",
        "from google.colab import files\r\n",
        "res.to_csv('prediction_results.csv', index=False)         \r\n",
        "files.download('prediction_results.csv')"
      ],
      "execution_count": 125,
      "outputs": [
        {
          "output_type": "stream",
          "text": [
            "-------------------------  RFE with RF  Pred ----------------------------\n"
          ],
          "name": "stdout"
        },
        {
          "output_type": "display_data",
          "data": {
            "application/javascript": [
              "\n",
              "    async function download(id, filename, size) {\n",
              "      if (!google.colab.kernel.accessAllowed) {\n",
              "        return;\n",
              "      }\n",
              "      const div = document.createElement('div');\n",
              "      const label = document.createElement('label');\n",
              "      label.textContent = `Downloading \"${filename}\": `;\n",
              "      div.appendChild(label);\n",
              "      const progress = document.createElement('progress');\n",
              "      progress.max = size;\n",
              "      div.appendChild(progress);\n",
              "      document.body.appendChild(div);\n",
              "\n",
              "      const buffers = [];\n",
              "      let downloaded = 0;\n",
              "\n",
              "      const channel = await google.colab.kernel.comms.open(id);\n",
              "      // Send a message to notify the kernel that we're ready.\n",
              "      channel.send({})\n",
              "\n",
              "      for await (const message of channel.messages) {\n",
              "        // Send a message to notify the kernel that we're ready.\n",
              "        channel.send({})\n",
              "        if (message.buffers) {\n",
              "          for (const buffer of message.buffers) {\n",
              "            buffers.push(buffer);\n",
              "            downloaded += buffer.byteLength;\n",
              "            progress.value = downloaded;\n",
              "          }\n",
              "        }\n",
              "      }\n",
              "      const blob = new Blob(buffers, {type: 'application/binary'});\n",
              "      const a = document.createElement('a');\n",
              "      a.href = window.URL.createObjectURL(blob);\n",
              "      a.download = filename;\n",
              "      div.appendChild(a);\n",
              "      a.click();\n",
              "      div.remove();\n",
              "    }\n",
              "  "
            ],
            "text/plain": [
              "<IPython.core.display.Javascript object>"
            ]
          },
          "metadata": {
            "tags": []
          }
        },
        {
          "output_type": "display_data",
          "data": {
            "application/javascript": [
              "download(\"download_5fc25649-0c45-4f52-beed-09d4300e6a8e\", \"prediction_results.csv\", 31675)"
            ],
            "text/plain": [
              "<IPython.core.display.Javascript object>"
            ]
          },
          "metadata": {
            "tags": []
          }
        }
      ]
    },
    {
      "cell_type": "code",
      "metadata": {
        "colab": {
          "base_uri": "https://localhost:8080/",
          "height": 34
        },
        "id": "xtm6pY2jJyf4",
        "outputId": "a170b4ca-4e4a-471b-cd0e-67afcdad968b"
      },
      "source": [
        "print('-------------------------  RFE with LR Pred ----------------------------')\r\n",
        "\r\n",
        "My_test_RFELR_pred = selector2.predict(My_test)\r\n",
        "# To create Dataframe of predicted value with particular respective index\r\n",
        "res = pd.DataFrame(My_test_RFELR_pred) #preditcions are nothing but the final predictions of your model on input features of your new unseen test data\r\n",
        "res.index = My_test.index # its important for comparison. Here \"test_new\" is your new test dataset\r\n",
        "res.columns = [\"prediction\"]\r\n",
        "\r\n",
        "#LR 1 prediction\r\n",
        "# To download the csv file locally\r\n",
        "from google.colab import files\r\n",
        "res.to_csv('prediction_results.csv', index=False)         \r\n",
        "files.download('prediction_results.csv')"
      ],
      "execution_count": 134,
      "outputs": [
        {
          "output_type": "stream",
          "text": [
            "-------------------------  RFE with LR Pred ----------------------------\n"
          ],
          "name": "stdout"
        },
        {
          "output_type": "display_data",
          "data": {
            "application/javascript": [
              "\n",
              "    async function download(id, filename, size) {\n",
              "      if (!google.colab.kernel.accessAllowed) {\n",
              "        return;\n",
              "      }\n",
              "      const div = document.createElement('div');\n",
              "      const label = document.createElement('label');\n",
              "      label.textContent = `Downloading \"${filename}\": `;\n",
              "      div.appendChild(label);\n",
              "      const progress = document.createElement('progress');\n",
              "      progress.max = size;\n",
              "      div.appendChild(progress);\n",
              "      document.body.appendChild(div);\n",
              "\n",
              "      const buffers = [];\n",
              "      let downloaded = 0;\n",
              "\n",
              "      const channel = await google.colab.kernel.comms.open(id);\n",
              "      // Send a message to notify the kernel that we're ready.\n",
              "      channel.send({})\n",
              "\n",
              "      for await (const message of channel.messages) {\n",
              "        // Send a message to notify the kernel that we're ready.\n",
              "        channel.send({})\n",
              "        if (message.buffers) {\n",
              "          for (const buffer of message.buffers) {\n",
              "            buffers.push(buffer);\n",
              "            downloaded += buffer.byteLength;\n",
              "            progress.value = downloaded;\n",
              "          }\n",
              "        }\n",
              "      }\n",
              "      const blob = new Blob(buffers, {type: 'application/binary'});\n",
              "      const a = document.createElement('a');\n",
              "      a.href = window.URL.createObjectURL(blob);\n",
              "      a.download = filename;\n",
              "      div.appendChild(a);\n",
              "      a.click();\n",
              "      div.remove();\n",
              "    }\n",
              "  "
            ],
            "text/plain": [
              "<IPython.core.display.Javascript object>"
            ]
          },
          "metadata": {
            "tags": []
          }
        },
        {
          "output_type": "display_data",
          "data": {
            "application/javascript": [
              "download(\"download_f6285723-bef1-40e0-90be-50e9d6904b6d\", \"prediction_results.csv\", 31675)"
            ],
            "text/plain": [
              "<IPython.core.display.Javascript object>"
            ]
          },
          "metadata": {
            "tags": []
          }
        }
      ]
    }
  ]
}
{
  "nbformat": 4,
  "nbformat_minor": 0,
  "metadata": {
    "colab": {
      "name": "MLJdphiAss1.ipynb",
      "provenance": [],
      "collapsed_sections": [],
      "authorship_tag": "ABX9TyOAmUGUrsYonVBW6zvTbiJf",
      "include_colab_link": true
    },
    "kernelspec": {
      "name": "python3",
      "display_name": "Python 3"
    }
  },
  "cells": [
    {
      "cell_type": "markdown",
      "metadata": {
        "id": "view-in-github",
        "colab_type": "text"
      },
      "source": [
        "<a href=\"https://colab.research.google.com/github/nishamathi/MachineLearningJourney/blob/main/MLJdphiAss1.ipynb\" target=\"_parent\"><img src=\"https://colab.research.google.com/assets/colab-badge.svg\" alt=\"Open In Colab\"/></a>"
      ]
    },
    {
      "cell_type": "markdown",
      "metadata": {
        "id": "HkTl989jEsx5"
      },
      "source": [
        ""
      ]
    },
    {
      "cell_type": "code",
      "metadata": {
        "colab": {
          "base_uri": "https://localhost:8080/"
        },
        "id": "f_-QjXwjEoUB",
        "outputId": "9dbd79bd-d209-4f66-aca8-36a3c8231b82"
      },
      "source": [
        "!pip install --upgrade scikit-learn==0.22.2"
      ],
      "execution_count": 96,
      "outputs": [
        {
          "output_type": "stream",
          "text": [
            "Requirement already up-to-date: scikit-learn==0.22.2 in /usr/local/lib/python3.6/dist-packages (0.22.2)\n",
            "Requirement already satisfied, skipping upgrade: numpy>=1.11.0 in /usr/local/lib/python3.6/dist-packages (from scikit-learn==0.22.2) (1.19.4)\n",
            "Requirement already satisfied, skipping upgrade: scipy>=0.17.0 in /usr/local/lib/python3.6/dist-packages (from scikit-learn==0.22.2) (1.4.1)\n",
            "Requirement already satisfied, skipping upgrade: joblib>=0.11 in /usr/local/lib/python3.6/dist-packages (from scikit-learn==0.22.2) (1.0.0)\n"
          ],
          "name": "stdout"
        }
      ]
    },
    {
      "cell_type": "code",
      "metadata": {
        "colab": {
          "base_uri": "https://localhost:8080/"
        },
        "id": "nsXZVkTRE3iQ",
        "outputId": "6708e9b5-fa7c-44e8-f601-706bbafec7cc"
      },
      "source": [
        "!pip install imblearn"
      ],
      "execution_count": 97,
      "outputs": [
        {
          "output_type": "stream",
          "text": [
            "Requirement already satisfied: imblearn in /usr/local/lib/python3.6/dist-packages (0.0)\n",
            "Requirement already satisfied: imbalanced-learn in /usr/local/lib/python3.6/dist-packages (from imblearn) (0.4.3)\n",
            "Requirement already satisfied: scikit-learn>=0.20 in /usr/local/lib/python3.6/dist-packages (from imbalanced-learn->imblearn) (0.22.2)\n",
            "Requirement already satisfied: scipy>=0.13.3 in /usr/local/lib/python3.6/dist-packages (from imbalanced-learn->imblearn) (1.4.1)\n",
            "Requirement already satisfied: numpy>=1.8.2 in /usr/local/lib/python3.6/dist-packages (from imbalanced-learn->imblearn) (1.19.4)\n",
            "Requirement already satisfied: joblib>=0.11 in /usr/local/lib/python3.6/dist-packages (from scikit-learn>=0.20->imbalanced-learn->imblearn) (1.0.0)\n"
          ],
          "name": "stdout"
        }
      ]
    },
    {
      "cell_type": "code",
      "metadata": {
        "colab": {
          "base_uri": "https://localhost:8080/"
        },
        "id": "qwr43zDIo3uc",
        "outputId": "77a62954-3688-41fe-fdc6-47faddc48ea4"
      },
      "source": [
        "!pip install six"
      ],
      "execution_count": 98,
      "outputs": [
        {
          "output_type": "stream",
          "text": [
            "Requirement already satisfied: six in /usr/local/lib/python3.6/dist-packages (1.15.0)\n"
          ],
          "name": "stdout"
        }
      ]
    },
    {
      "cell_type": "code",
      "metadata": {
        "colab": {
          "base_uri": "https://localhost:8080/"
        },
        "id": "EXNuEpqNn92l",
        "outputId": "2eb47557-4dcf-4324-9b0e-49137e22ddd0"
      },
      "source": [
        "pip show imblearn"
      ],
      "execution_count": 99,
      "outputs": [
        {
          "output_type": "stream",
          "text": [
            "Name: imblearn\n",
            "Version: 0.0\n",
            "Summary: Toolbox for imbalanced dataset in machine learning.\n",
            "Home-page: https://pypi.python.org/pypi/imbalanced-learn/\n",
            "Author: UNKNOWN\n",
            "Author-email: UNKNOWN\n",
            "License: UNKNOWN\n",
            "Location: /usr/local/lib/python3.6/dist-packages\n",
            "Requires: imbalanced-learn\n",
            "Required-by: \n"
          ],
          "name": "stdout"
        }
      ]
    },
    {
      "cell_type": "code",
      "metadata": {
        "colab": {
          "base_uri": "https://localhost:8080/"
        },
        "id": "sZzCm1LapPw3",
        "outputId": "e7d460e0-2400-4a50-c981-a70db45f3712"
      },
      "source": [
        "pip show scikit-learn"
      ],
      "execution_count": 100,
      "outputs": [
        {
          "output_type": "stream",
          "text": [
            "Name: scikit-learn\n",
            "Version: 0.22.2\n",
            "Summary: A set of python modules for machine learning and data mining\n",
            "Home-page: http://scikit-learn.org\n",
            "Author: None\n",
            "Author-email: None\n",
            "License: new BSD\n",
            "Location: /usr/local/lib/python3.6/dist-packages\n",
            "Requires: scipy, joblib, numpy\n",
            "Required-by: yellowbrick, umap-learn, textgenrnn, sklearn, sklearn-pandas, mlxtend, lucid, lightgbm, librosa, imbalanced-learn, fancyimpute\n"
          ],
          "name": "stdout"
        }
      ]
    },
    {
      "cell_type": "code",
      "metadata": {
        "id": "9ZG5XYg1IBC2"
      },
      "source": [
        "import pandas as pd\r\n",
        "import numpy as np\r\n",
        "insurance_data = pd.read_csv(\"https://github.com/dphi-official/Datasets/blob/master/travel_insurance/Training_set_label.csv?raw=true\")"
      ],
      "execution_count": 101,
      "outputs": []
    },
    {
      "cell_type": "code",
      "metadata": {
        "id": "3m_8lDqpYKhO",
        "colab": {
          "base_uri": "https://localhost:8080/"
        },
        "outputId": "1cccb0ce-a0a5-47d2-d33e-4abbdb969a10"
      },
      "source": [
        "#%%# To find dtypes of all columns\r\n",
        "print(insurance_data.dtypes)\r\n",
        "# Check missing values\r\n",
        "print(insurance_data.isnull().sum())\r\n",
        "# Check if negative values are present in int and float dtypes\r\n",
        "bool=insurance_data['Age']<0\r\n",
        "print('Age Neg value',bool.sum())\r\n",
        "\r\n",
        "bool=insurance_data['Claim']<0\r\n",
        "print('Claim Neg value',bool.sum())\r\n",
        "\r\n",
        "bool=insurance_data['Duration']<0\r\n",
        "print('Duration Neg value',bool.sum())\r\n",
        "\r\n",
        "bool=insurance_data['Net Sales']<0\r\n",
        "print('Net Sales Neg value',bool.sum())\r\n",
        "\r\n",
        "bool=insurance_data['Commision (in value)']<0\r\n",
        "print('Commision in value Neg value',bool.sum())\r\n",
        "\r\n",
        "gen=insurance_data['Gender'].value_counts()\r\n",
        "print(gen)"
      ],
      "execution_count": 102,
      "outputs": [
        {
          "output_type": "stream",
          "text": [
            "Agency                   object\n",
            "Agency Type              object\n",
            "Distribution Channel     object\n",
            "Product Name             object\n",
            "Duration                  int64\n",
            "Destination              object\n",
            "Net Sales               float64\n",
            "Commision (in value)    float64\n",
            "Gender                   object\n",
            "Age                       int64\n",
            "Claim                     int64\n",
            "dtype: object\n",
            "Agency                      0\n",
            "Agency Type                 0\n",
            "Distribution Channel        0\n",
            "Product Name                0\n",
            "Duration                    0\n",
            "Destination                 0\n",
            "Net Sales                   0\n",
            "Commision (in value)        0\n",
            "Gender                  34361\n",
            "Age                         0\n",
            "Claim                       0\n",
            "dtype: int64\n",
            "Age Neg value 0\n",
            "Claim Neg value 0\n",
            "Duration Neg value 3\n",
            "Net Sales Neg value 522\n",
            "Commision in value Neg value 0\n",
            "M    7137\n",
            "F    6762\n",
            "Name: Gender, dtype: int64\n"
          ],
          "name": "stdout"
        }
      ]
    },
    {
      "cell_type": "code",
      "metadata": {
        "colab": {
          "base_uri": "https://localhost:8080/",
          "height": 354
        },
        "id": "iOkxU2r3yAZB",
        "outputId": "b83907c6-bd84-4ad9-a549-381e3fba2235"
      },
      "source": [
        "print('Mean of duration', np.mean(insurance_data['Duration']))\r\n",
        "print('Median of duration', np.median(insurance_data['Duration']))\r\n",
        "print('Min of duration', np.min(insurance_data['Duration']))\r\n",
        "print('Max of duration', np.max(insurance_data['Duration']))\r\n",
        "import matplotlib.pyplot as plt\r\n",
        "import numpy as np\r\n",
        "%matplotlib inline\r\n",
        "\r\n",
        "plt.hist(insurance_data['Duration'], density=False, bins=2)  # `density=False` would make counts\r\n",
        "plt.ylabel('Probability')\r\n",
        "plt.xlabel('Duration');\r\n"
      ],
      "execution_count": 103,
      "outputs": [
        {
          "output_type": "stream",
          "text": [
            "Mean of duration 49.5466017405719\n",
            "Median of duration 22.0\n",
            "Min of duration -2\n",
            "Max of duration 4881\n"
          ],
          "name": "stdout"
        },
        {
          "output_type": "display_data",
          "data": {
            "image/png": "[encoded data removed]",
            "text/plain": [
              "<Figure size 432x288 with 1 Axes>"
            ]
          },
          "metadata": {
            "tags": [],
            "needs_background": "light"
          }
        }
      ]
    },
    {
      "cell_type": "code",
      "metadata": {
        "colab": {
          "base_uri": "https://localhost:8080/",
          "height": 285
        },
        "id": "YiLX_fq_AL1E",
        "outputId": "09deef86-0555-40ff-c057-1d686626b1a0"
      },
      "source": [
        "import seaborn as sns\r\n",
        "sns.set_theme(style=\"whitegrid\")\r\n",
        "\r\n",
        "ax = sns.boxplot(x=insurance_data[\"Duration\"])"
      ],
      "execution_count": 104,
      "outputs": [
        {
          "output_type": "display_data",
          "data": {
            "image/png": "[encoded data removed]",
            "text/plain": [
              "<Figure size 432x288 with 1 Axes>"
            ]
          },
          "metadata": {
            "tags": []
          }
        }
      ]
    },
    {
      "cell_type": "code",
      "metadata": {
        "id": "Z0RHLBm3CgFN"
      },
      "source": [
        "insurance_data['Gender']=insurance_data['Gender'].replace(np.nan,'Not Specified')\r\n",
        "insurance_data.drop(columns=['Distribution Channel','Destination','Agency Type'], inplace=True)"
      ],
      "execution_count": 105,
      "outputs": []
    },
    {
      "cell_type": "code",
      "metadata": {
        "colab": {
          "base_uri": "https://localhost:8080/",
          "height": 762
        },
        "id": "_JxAcew5IDXT",
        "outputId": "64b51f98-86b5-4db2-ee00-c6689c6ef8a0"
      },
      "source": [
        "insurance_data.head(23)"
      ],
      "execution_count": 106,
      "outputs": [
        {
          "output_type": "execute_result",
          "data": {
            "text/html": [
              "<div>\n",
              "<style scoped>\n",
              "    .dataframe tbody tr th:only-of-type {\n",
              "        vertical-align: middle;\n",
              "    }\n",
              "\n",
              "    .dataframe tbody tr th {\n",
              "        vertical-align: top;\n",
              "    }\n",
              "\n",
              "    .dataframe thead th {\n",
              "        text-align: right;\n",
              "    }\n",
              "</style>\n",
              "<table border=\"1\" class=\"dataframe\">\n",
              "  <thead>\n",
              "    <tr style=\"text-align: right;\">\n",
              "      <th></th>\n",
              "      <th>Agency</th>\n",
              "      <th>Product Name</th>\n",
              "      <th>Duration</th>\n",
              "      <th>Net Sales</th>\n",
              "      <th>Commision (in value)</th>\n",
              "      <th>Gender</th>\n",
              "      <th>Age</th>\n",
              "      <th>Claim</th>\n",
              "    </tr>\n",
              "  </thead>\n",
              "  <tbody>\n",
              "    <tr>\n",
              "      <th>0</th>\n",
              "      <td>CWT</td>\n",
              "      <td>Rental Vehicle Excess Insurance</td>\n",
              "      <td>61</td>\n",
              "      <td>19.80</td>\n",
              "      <td>11.88</td>\n",
              "      <td>Not Specified</td>\n",
              "      <td>29</td>\n",
              "      <td>0</td>\n",
              "    </tr>\n",
              "    <tr>\n",
              "      <th>1</th>\n",
              "      <td>EPX</td>\n",
              "      <td>Cancellation Plan</td>\n",
              "      <td>93</td>\n",
              "      <td>63.00</td>\n",
              "      <td>0.00</td>\n",
              "      <td>Not Specified</td>\n",
              "      <td>36</td>\n",
              "      <td>0</td>\n",
              "    </tr>\n",
              "    <tr>\n",
              "      <th>2</th>\n",
              "      <td>EPX</td>\n",
              "      <td>2 way Comprehensive Plan</td>\n",
              "      <td>22</td>\n",
              "      <td>22.00</td>\n",
              "      <td>0.00</td>\n",
              "      <td>Not Specified</td>\n",
              "      <td>25</td>\n",
              "      <td>0</td>\n",
              "    </tr>\n",
              "    <tr>\n",
              "      <th>3</th>\n",
              "      <td>C2B</td>\n",
              "      <td>Silver Plan</td>\n",
              "      <td>14</td>\n",
              "      <td>54.50</td>\n",
              "      <td>13.63</td>\n",
              "      <td>M</td>\n",
              "      <td>24</td>\n",
              "      <td>0</td>\n",
              "    </tr>\n",
              "    <tr>\n",
              "      <th>4</th>\n",
              "      <td>EPX</td>\n",
              "      <td>Cancellation Plan</td>\n",
              "      <td>90</td>\n",
              "      <td>10.00</td>\n",
              "      <td>0.00</td>\n",
              "      <td>Not Specified</td>\n",
              "      <td>23</td>\n",
              "      <td>0</td>\n",
              "    </tr>\n",
              "    <tr>\n",
              "      <th>5</th>\n",
              "      <td>EPX</td>\n",
              "      <td>2 way Comprehensive Plan</td>\n",
              "      <td>36</td>\n",
              "      <td>47.00</td>\n",
              "      <td>0.00</td>\n",
              "      <td>Not Specified</td>\n",
              "      <td>36</td>\n",
              "      <td>0</td>\n",
              "    </tr>\n",
              "    <tr>\n",
              "      <th>6</th>\n",
              "      <td>EPX</td>\n",
              "      <td>2 way Comprehensive Plan</td>\n",
              "      <td>13</td>\n",
              "      <td>25.00</td>\n",
              "      <td>0.00</td>\n",
              "      <td>Not Specified</td>\n",
              "      <td>36</td>\n",
              "      <td>0</td>\n",
              "    </tr>\n",
              "    <tr>\n",
              "      <th>7</th>\n",
              "      <td>EPX</td>\n",
              "      <td>Cancellation Plan</td>\n",
              "      <td>4</td>\n",
              "      <td>27.00</td>\n",
              "      <td>0.00</td>\n",
              "      <td>Not Specified</td>\n",
              "      <td>35</td>\n",
              "      <td>0</td>\n",
              "    </tr>\n",
              "    <tr>\n",
              "      <th>8</th>\n",
              "      <td>EPX</td>\n",
              "      <td>2 way Comprehensive Plan</td>\n",
              "      <td>95</td>\n",
              "      <td>20.00</td>\n",
              "      <td>0.00</td>\n",
              "      <td>Not Specified</td>\n",
              "      <td>36</td>\n",
              "      <td>0</td>\n",
              "    </tr>\n",
              "    <tr>\n",
              "      <th>9</th>\n",
              "      <td>EPX</td>\n",
              "      <td>Cancellation Plan</td>\n",
              "      <td>30</td>\n",
              "      <td>10.00</td>\n",
              "      <td>0.00</td>\n",
              "      <td>Not Specified</td>\n",
              "      <td>36</td>\n",
              "      <td>0</td>\n",
              "    </tr>\n",
              "    <tr>\n",
              "      <th>10</th>\n",
              "      <td>EPX</td>\n",
              "      <td>1 way Comprehensive Plan</td>\n",
              "      <td>4</td>\n",
              "      <td>20.00</td>\n",
              "      <td>0.00</td>\n",
              "      <td>Not Specified</td>\n",
              "      <td>56</td>\n",
              "      <td>0</td>\n",
              "    </tr>\n",
              "    <tr>\n",
              "      <th>11</th>\n",
              "      <td>EPX</td>\n",
              "      <td>2 way Comprehensive Plan</td>\n",
              "      <td>8</td>\n",
              "      <td>20.00</td>\n",
              "      <td>0.00</td>\n",
              "      <td>Not Specified</td>\n",
              "      <td>36</td>\n",
              "      <td>0</td>\n",
              "    </tr>\n",
              "    <tr>\n",
              "      <th>12</th>\n",
              "      <td>EPX</td>\n",
              "      <td>Cancellation Plan</td>\n",
              "      <td>49</td>\n",
              "      <td>-80.00</td>\n",
              "      <td>0.00</td>\n",
              "      <td>Not Specified</td>\n",
              "      <td>21</td>\n",
              "      <td>0</td>\n",
              "    </tr>\n",
              "    <tr>\n",
              "      <th>13</th>\n",
              "      <td>JZI</td>\n",
              "      <td>Basic Plan</td>\n",
              "      <td>3</td>\n",
              "      <td>22.00</td>\n",
              "      <td>7.70</td>\n",
              "      <td>M</td>\n",
              "      <td>26</td>\n",
              "      <td>0</td>\n",
              "    </tr>\n",
              "    <tr>\n",
              "      <th>14</th>\n",
              "      <td>EPX</td>\n",
              "      <td>1 way Comprehensive Plan</td>\n",
              "      <td>6</td>\n",
              "      <td>53.00</td>\n",
              "      <td>0.00</td>\n",
              "      <td>Not Specified</td>\n",
              "      <td>36</td>\n",
              "      <td>0</td>\n",
              "    </tr>\n",
              "    <tr>\n",
              "      <th>15</th>\n",
              "      <td>CWT</td>\n",
              "      <td>Rental Vehicle Excess Insurance</td>\n",
              "      <td>1</td>\n",
              "      <td>9.90</td>\n",
              "      <td>5.94</td>\n",
              "      <td>Not Specified</td>\n",
              "      <td>30</td>\n",
              "      <td>0</td>\n",
              "    </tr>\n",
              "    <tr>\n",
              "      <th>16</th>\n",
              "      <td>CWT</td>\n",
              "      <td>Rental Vehicle Excess Insurance</td>\n",
              "      <td>4</td>\n",
              "      <td>29.70</td>\n",
              "      <td>17.82</td>\n",
              "      <td>Not Specified</td>\n",
              "      <td>53</td>\n",
              "      <td>0</td>\n",
              "    </tr>\n",
              "    <tr>\n",
              "      <th>17</th>\n",
              "      <td>EPX</td>\n",
              "      <td>Cancellation Plan</td>\n",
              "      <td>54</td>\n",
              "      <td>12.00</td>\n",
              "      <td>0.00</td>\n",
              "      <td>Not Specified</td>\n",
              "      <td>36</td>\n",
              "      <td>0</td>\n",
              "    </tr>\n",
              "    <tr>\n",
              "      <th>18</th>\n",
              "      <td>TST</td>\n",
              "      <td>Travel Cruise Protect</td>\n",
              "      <td>40</td>\n",
              "      <td>30.00</td>\n",
              "      <td>10.50</td>\n",
              "      <td>M</td>\n",
              "      <td>50</td>\n",
              "      <td>0</td>\n",
              "    </tr>\n",
              "    <tr>\n",
              "      <th>19</th>\n",
              "      <td>JZI</td>\n",
              "      <td>Basic Plan</td>\n",
              "      <td>2</td>\n",
              "      <td>18.00</td>\n",
              "      <td>6.30</td>\n",
              "      <td>M</td>\n",
              "      <td>39</td>\n",
              "      <td>0</td>\n",
              "    </tr>\n",
              "    <tr>\n",
              "      <th>20</th>\n",
              "      <td>C2B</td>\n",
              "      <td>Annual Silver Plan</td>\n",
              "      <td>365</td>\n",
              "      <td>252.85</td>\n",
              "      <td>63.21</td>\n",
              "      <td>M</td>\n",
              "      <td>52</td>\n",
              "      <td>1</td>\n",
              "    </tr>\n",
              "    <tr>\n",
              "      <th>21</th>\n",
              "      <td>EPX</td>\n",
              "      <td>Cancellation Plan</td>\n",
              "      <td>11</td>\n",
              "      <td>33.00</td>\n",
              "      <td>0.00</td>\n",
              "      <td>Not Specified</td>\n",
              "      <td>36</td>\n",
              "      <td>0</td>\n",
              "    </tr>\n",
              "    <tr>\n",
              "      <th>22</th>\n",
              "      <td>JZI</td>\n",
              "      <td>Basic Plan</td>\n",
              "      <td>49</td>\n",
              "      <td>26.00</td>\n",
              "      <td>9.10</td>\n",
              "      <td>F</td>\n",
              "      <td>38</td>\n",
              "      <td>0</td>\n",
              "    </tr>\n",
              "  </tbody>\n",
              "</table>\n",
              "</div>"
            ],
            "text/plain": [
              "   Agency                     Product Name  Duration  ...         Gender  Age Claim\n",
              "0     CWT  Rental Vehicle Excess Insurance        61  ...  Not Specified   29     0\n",
              "1     EPX                Cancellation Plan        93  ...  Not Specified   36     0\n",
              "2     EPX         2 way Comprehensive Plan        22  ...  Not Specified   25     0\n",
              "3     C2B                      Silver Plan        14  ...              M   24     0\n",
              "4     EPX                Cancellation Plan        90  ...  Not Specified   23     0\n",
              "5     EPX         2 way Comprehensive Plan        36  ...  Not Specified   36     0\n",
              "6     EPX         2 way Comprehensive Plan        13  ...  Not Specified   36     0\n",
              "7     EPX                Cancellation Plan         4  ...  Not Specified   35     0\n",
              "8     EPX         2 way Comprehensive Plan        95  ...  Not Specified   36     0\n",
              "9     EPX                Cancellation Plan        30  ...  Not Specified   36     0\n",
              "10    EPX         1 way Comprehensive Plan         4  ...  Not Specified   56     0\n",
              "11    EPX         2 way Comprehensive Plan         8  ...  Not Specified   36     0\n",
              "12    EPX                Cancellation Plan        49  ...  Not Specified   21     0\n",
              "13    JZI                       Basic Plan         3  ...              M   26     0\n",
              "14    EPX         1 way Comprehensive Plan         6  ...  Not Specified   36     0\n",
              "15    CWT  Rental Vehicle Excess Insurance         1  ...  Not Specified   30     0\n",
              "16    CWT  Rental Vehicle Excess Insurance         4  ...  Not Specified   53     0\n",
              "17    EPX                Cancellation Plan        54  ...  Not Specified   36     0\n",
              "18    TST            Travel Cruise Protect        40  ...              M   50     0\n",
              "19    JZI                       Basic Plan         2  ...              M   39     0\n",
              "20    C2B               Annual Silver Plan       365  ...              M   52     1\n",
              "21    EPX                Cancellation Plan        11  ...  Not Specified   36     0\n",
              "22    JZI                       Basic Plan        49  ...              F   38     0\n",
              "\n",
              "[23 rows x 8 columns]"
            ]
          },
          "metadata": {
            "tags": []
          },
          "execution_count": 106
        }
      ]
    },
    {
      "cell_type": "code",
      "metadata": {
        "colab": {
          "base_uri": "https://localhost:8080/"
        },
        "id": "BkNxel9DFDON",
        "outputId": "971dcc3f-1724-4e02-cb0c-0921764d84f1"
      },
      "source": [
        "print(insurance_data.dtypes)\r\n",
        "ag=pd.get_dummies(insurance_data['Agency'], prefix='AG')\r\n",
        "ag.head()\r\n",
        "pn=pd.get_dummies(insurance_data['Product Name'], prefix='PN')\r\n",
        "pn.head()\r\n",
        "gn=pd.get_dummies(insurance_data['Gender'], prefix='GN')\r\n",
        "gn.head()\r\n",
        "print(ag.shape)\r\n",
        "print(pn.shape)\r\n",
        "print(gn.shape)"
      ],
      "execution_count": 107,
      "outputs": [
        {
          "output_type": "stream",
          "text": [
            "Agency                   object\n",
            "Product Name             object\n",
            "Duration                  int64\n",
            "Net Sales               float64\n",
            "Commision (in value)    float64\n",
            "Gender                   object\n",
            "Age                       int64\n",
            "Claim                     int64\n",
            "dtype: object\n",
            "(48260, 16)\n",
            "(48260, 26)\n",
            "(48260, 3)\n"
          ],
          "name": "stdout"
        }
      ]
    },
    {
      "cell_type": "code",
      "metadata": {
        "colab": {
          "base_uri": "https://localhost:8080/",
          "height": 309
        },
        "id": "OsESsISUYXVJ",
        "outputId": "71d30a8c-ea11-43c2-da72-16a4df4ce6b9"
      },
      "source": [
        "print(isinstance(gn, pd.DataFrame))\r\n",
        "filt_id=insurance_data.drop(columns=['Agency','Product Name', 'Gender'])\r\n",
        "tmp=[ag, gn, pn, filt_id]\r\n",
        "CatFile=pd.concat(tmp,axis=1) \r\n",
        "CatFile.columns\r\n",
        "CatFile.head(5)"
      ],
      "execution_count": 108,
      "outputs": [
        {
          "output_type": "stream",
          "text": [
            "True\n"
          ],
          "name": "stdout"
        },
        {
          "output_type": "execute_result",
          "data": {
            "text/html": [
              "<div>\n",
              "<style scoped>\n",
              "    .dataframe tbody tr th:only-of-type {\n",
              "        vertical-align: middle;\n",
              "    }\n",
              "\n",
              "    .dataframe tbody tr th {\n",
              "        vertical-align: top;\n",
              "    }\n",
              "\n",
              "    .dataframe thead th {\n",
              "        text-align: right;\n",
              "    }\n",
              "</style>\n",
              "<table border=\"1\" class=\"dataframe\">\n",
              "  <thead>\n",
              "    <tr style=\"text-align: right;\">\n",
              "      <th></th>\n",
              "      <th>AG_ADM</th>\n",
              "      <th>AG_ART</th>\n",
              "      <th>AG_C2B</th>\n",
              "      <th>AG_CBH</th>\n",
              "      <th>AG_CCR</th>\n",
              "      <th>AG_CSR</th>\n",
              "      <th>AG_CWT</th>\n",
              "      <th>AG_EPX</th>\n",
              "      <th>AG_JWT</th>\n",
              "      <th>AG_JZI</th>\n",
              "      <th>AG_KML</th>\n",
              "      <th>AG_LWC</th>\n",
              "      <th>AG_RAB</th>\n",
              "      <th>AG_SSI</th>\n",
              "      <th>AG_TST</th>\n",
              "      <th>AG_TTW</th>\n",
              "      <th>GN_F</th>\n",
              "      <th>GN_M</th>\n",
              "      <th>GN_Not Specified</th>\n",
              "      <th>PN_1 way Comprehensive Plan</th>\n",
              "      <th>PN_2 way Comprehensive Plan</th>\n",
              "      <th>PN_24 Protect</th>\n",
              "      <th>PN_Annual Gold Plan</th>\n",
              "      <th>PN_Annual Silver Plan</th>\n",
              "      <th>PN_Annual Travel Protect Gold</th>\n",
              "      <th>PN_Annual Travel Protect Platinum</th>\n",
              "      <th>PN_Annual Travel Protect Silver</th>\n",
              "      <th>PN_Basic Plan</th>\n",
              "      <th>PN_Bronze Plan</th>\n",
              "      <th>PN_Cancellation Plan</th>\n",
              "      <th>PN_Child Comprehensive Plan</th>\n",
              "      <th>PN_Comprehensive Plan</th>\n",
              "      <th>PN_Gold Plan</th>\n",
              "      <th>PN_Individual Comprehensive Plan</th>\n",
              "      <th>PN_Premier Plan</th>\n",
              "      <th>PN_Rental Vehicle Excess Insurance</th>\n",
              "      <th>PN_Silver Plan</th>\n",
              "      <th>PN_Single Trip Travel Protect Gold</th>\n",
              "      <th>PN_Single Trip Travel Protect Platinum</th>\n",
              "      <th>PN_Single Trip Travel Protect Silver</th>\n",
              "      <th>PN_Spouse or Parents Comprehensive Plan</th>\n",
              "      <th>PN_Ticket Protector</th>\n",
              "      <th>PN_Travel Cruise Protect</th>\n",
              "      <th>PN_Travel Cruise Protect Family</th>\n",
              "      <th>PN_Value Plan</th>\n",
              "      <th>Duration</th>\n",
              "      <th>Net Sales</th>\n",
              "      <th>Commision (in value)</th>\n",
              "      <th>Age</th>\n",
              "      <th>Claim</th>\n",
              "    </tr>\n",
              "  </thead>\n",
              "  <tbody>\n",
              "    <tr>\n",
              "      <th>0</th>\n",
              "      <td>0</td>\n",
              "      <td>0</td>\n",
              "      <td>0</td>\n",
              "      <td>0</td>\n",
              "      <td>0</td>\n",
              "      <td>0</td>\n",
              "      <td>1</td>\n",
              "      <td>0</td>\n",
              "      <td>0</td>\n",
              "      <td>0</td>\n",
              "      <td>0</td>\n",
              "      <td>0</td>\n",
              "      <td>0</td>\n",
              "      <td>0</td>\n",
              "      <td>0</td>\n",
              "      <td>0</td>\n",
              "      <td>0</td>\n",
              "      <td>0</td>\n",
              "      <td>1</td>\n",
              "      <td>0</td>\n",
              "      <td>0</td>\n",
              "      <td>0</td>\n",
              "      <td>0</td>\n",
              "      <td>0</td>\n",
              "      <td>0</td>\n",
              "      <td>0</td>\n",
              "      <td>0</td>\n",
              "      <td>0</td>\n",
              "      <td>0</td>\n",
              "      <td>0</td>\n",
              "      <td>0</td>\n",
              "      <td>0</td>\n",
              "      <td>0</td>\n",
              "      <td>0</td>\n",
              "      <td>0</td>\n",
              "      <td>1</td>\n",
              "      <td>0</td>\n",
              "      <td>0</td>\n",
              "      <td>0</td>\n",
              "      <td>0</td>\n",
              "      <td>0</td>\n",
              "      <td>0</td>\n",
              "      <td>0</td>\n",
              "      <td>0</td>\n",
              "      <td>0</td>\n",
              "      <td>61</td>\n",
              "      <td>19.8</td>\n",
              "      <td>11.88</td>\n",
              "      <td>29</td>\n",
              "      <td>0</td>\n",
              "    </tr>\n",
              "    <tr>\n",
              "      <th>1</th>\n",
              "      <td>0</td>\n",
              "      <td>0</td>\n",
              "      <td>0</td>\n",
              "      <td>0</td>\n",
              "      <td>0</td>\n",
              "      <td>0</td>\n",
              "      <td>0</td>\n",
              "      <td>1</td>\n",
              "      <td>0</td>\n",
              "      <td>0</td>\n",
              "      <td>0</td>\n",
              "      <td>0</td>\n",
              "      <td>0</td>\n",
              "      <td>0</td>\n",
              "      <td>0</td>\n",
              "      <td>0</td>\n",
              "      <td>0</td>\n",
              "      <td>0</td>\n",
              "      <td>1</td>\n",
              "      <td>0</td>\n",
              "      <td>0</td>\n",
              "      <td>0</td>\n",
              "      <td>0</td>\n",
              "      <td>0</td>\n",
              "      <td>0</td>\n",
              "      <td>0</td>\n",
              "      <td>0</td>\n",
              "      <td>0</td>\n",
              "      <td>0</td>\n",
              "      <td>1</td>\n",
              "      <td>0</td>\n",
              "      <td>0</td>\n",
              "      <td>0</td>\n",
              "      <td>0</td>\n",
              "      <td>0</td>\n",
              "      <td>0</td>\n",
              "      <td>0</td>\n",
              "      <td>0</td>\n",
              "      <td>0</td>\n",
              "      <td>0</td>\n",
              "      <td>0</td>\n",
              "      <td>0</td>\n",
              "      <td>0</td>\n",
              "      <td>0</td>\n",
              "      <td>0</td>\n",
              "      <td>93</td>\n",
              "      <td>63.0</td>\n",
              "      <td>0.00</td>\n",
              "      <td>36</td>\n",
              "      <td>0</td>\n",
              "    </tr>\n",
              "    <tr>\n",
              "      <th>2</th>\n",
              "      <td>0</td>\n",
              "      <td>0</td>\n",
              "      <td>0</td>\n",
              "      <td>0</td>\n",
              "      <td>0</td>\n",
              "      <td>0</td>\n",
              "      <td>0</td>\n",
              "      <td>1</td>\n",
              "      <td>0</td>\n",
              "      <td>0</td>\n",
              "      <td>0</td>\n",
              "      <td>0</td>\n",
              "      <td>0</td>\n",
              "      <td>0</td>\n",
              "      <td>0</td>\n",
              "      <td>0</td>\n",
              "      <td>0</td>\n",
              "      <td>0</td>\n",
              "      <td>1</td>\n",
              "      <td>0</td>\n",
              "      <td>1</td>\n",
              "      <td>0</td>\n",
              "      <td>0</td>\n",
              "      <td>0</td>\n",
              "      <td>0</td>\n",
              "      <td>0</td>\n",
              "      <td>0</td>\n",
              "      <td>0</td>\n",
              "      <td>0</td>\n",
              "      <td>0</td>\n",
              "      <td>0</td>\n",
              "      <td>0</td>\n",
              "      <td>0</td>\n",
              "      <td>0</td>\n",
              "      <td>0</td>\n",
              "      <td>0</td>\n",
              "      <td>0</td>\n",
              "      <td>0</td>\n",
              "      <td>0</td>\n",
              "      <td>0</td>\n",
              "      <td>0</td>\n",
              "      <td>0</td>\n",
              "      <td>0</td>\n",
              "      <td>0</td>\n",
              "      <td>0</td>\n",
              "      <td>22</td>\n",
              "      <td>22.0</td>\n",
              "      <td>0.00</td>\n",
              "      <td>25</td>\n",
              "      <td>0</td>\n",
              "    </tr>\n",
              "    <tr>\n",
              "      <th>3</th>\n",
              "      <td>0</td>\n",
              "      <td>0</td>\n",
              "      <td>1</td>\n",
              "      <td>0</td>\n",
              "      <td>0</td>\n",
              "      <td>0</td>\n",
              "      <td>0</td>\n",
              "      <td>0</td>\n",
              "      <td>0</td>\n",
              "      <td>0</td>\n",
              "      <td>0</td>\n",
              "      <td>0</td>\n",
              "      <td>0</td>\n",
              "      <td>0</td>\n",
              "      <td>0</td>\n",
              "      <td>0</td>\n",
              "      <td>0</td>\n",
              "      <td>1</td>\n",
              "      <td>0</td>\n",
              "      <td>0</td>\n",
              "      <td>0</td>\n",
              "      <td>0</td>\n",
              "      <td>0</td>\n",
              "      <td>0</td>\n",
              "      <td>0</td>\n",
              "      <td>0</td>\n",
              "      <td>0</td>\n",
              "      <td>0</td>\n",
              "      <td>0</td>\n",
              "      <td>0</td>\n",
              "      <td>0</td>\n",
              "      <td>0</td>\n",
              "      <td>0</td>\n",
              "      <td>0</td>\n",
              "      <td>0</td>\n",
              "      <td>0</td>\n",
              "      <td>1</td>\n",
              "      <td>0</td>\n",
              "      <td>0</td>\n",
              "      <td>0</td>\n",
              "      <td>0</td>\n",
              "      <td>0</td>\n",
              "      <td>0</td>\n",
              "      <td>0</td>\n",
              "      <td>0</td>\n",
              "      <td>14</td>\n",
              "      <td>54.5</td>\n",
              "      <td>13.63</td>\n",
              "      <td>24</td>\n",
              "      <td>0</td>\n",
              "    </tr>\n",
              "    <tr>\n",
              "      <th>4</th>\n",
              "      <td>0</td>\n",
              "      <td>0</td>\n",
              "      <td>0</td>\n",
              "      <td>0</td>\n",
              "      <td>0</td>\n",
              "      <td>0</td>\n",
              "      <td>0</td>\n",
              "      <td>1</td>\n",
              "      <td>0</td>\n",
              "      <td>0</td>\n",
              "      <td>0</td>\n",
              "      <td>0</td>\n",
              "      <td>0</td>\n",
              "      <td>0</td>\n",
              "      <td>0</td>\n",
              "      <td>0</td>\n",
              "      <td>0</td>\n",
              "      <td>0</td>\n",
              "      <td>1</td>\n",
              "      <td>0</td>\n",
              "      <td>0</td>\n",
              "      <td>0</td>\n",
              "      <td>0</td>\n",
              "      <td>0</td>\n",
              "      <td>0</td>\n",
              "      <td>0</td>\n",
              "      <td>0</td>\n",
              "      <td>0</td>\n",
              "      <td>0</td>\n",
              "      <td>1</td>\n",
              "      <td>0</td>\n",
              "      <td>0</td>\n",
              "      <td>0</td>\n",
              "      <td>0</td>\n",
              "      <td>0</td>\n",
              "      <td>0</td>\n",
              "      <td>0</td>\n",
              "      <td>0</td>\n",
              "      <td>0</td>\n",
              "      <td>0</td>\n",
              "      <td>0</td>\n",
              "      <td>0</td>\n",
              "      <td>0</td>\n",
              "      <td>0</td>\n",
              "      <td>0</td>\n",
              "      <td>90</td>\n",
              "      <td>10.0</td>\n",
              "      <td>0.00</td>\n",
              "      <td>23</td>\n",
              "      <td>0</td>\n",
              "    </tr>\n",
              "  </tbody>\n",
              "</table>\n",
              "</div>"
            ],
            "text/plain": [
              "   AG_ADM  AG_ART  AG_C2B  AG_CBH  ...  Net Sales  Commision (in value)  Age  Claim\n",
              "0       0       0       0       0  ...       19.8                 11.88   29      0\n",
              "1       0       0       0       0  ...       63.0                  0.00   36      0\n",
              "2       0       0       0       0  ...       22.0                  0.00   25      0\n",
              "3       0       0       1       0  ...       54.5                 13.63   24      0\n",
              "4       0       0       0       0  ...       10.0                  0.00   23      0\n",
              "\n",
              "[5 rows x 50 columns]"
            ]
          },
          "metadata": {
            "tags": []
          },
          "execution_count": 108
        }
      ]
    },
    {
      "cell_type": "code",
      "metadata": {
        "id": "br8UtRAmYFJ6"
      },
      "source": [
        "X=CatFile.drop(columns=['Claim'])\r\n",
        "y=CatFile['Claim']"
      ],
      "execution_count": 109,
      "outputs": []
    },
    {
      "cell_type": "code",
      "metadata": {
        "id": "SimApNyheQdU"
      },
      "source": [
        "from sklearn.model_selection import train_test_split\r\n",
        "X_train, X_test, y_train, y_test=train_test_split(X, y, test_size=0.3, random_state=101)"
      ],
      "execution_count": 110,
      "outputs": []
    },
    {
      "cell_type": "code",
      "metadata": {
        "colab": {
          "base_uri": "https://localhost:8080/"
        },
        "id": "en4vmXsshFUa",
        "outputId": "1101149d-7212-4d28-ea30-36afc802a44b"
      },
      "source": [
        "# import SMOTE \r\n",
        "from imblearn.over_sampling import SMOTE\r\n",
        "\r\n",
        "sm = SMOTE(random_state = 25, sampling_strategy = 1.0)   \r\n",
        "X_trainSM, y_trainSM = sm.fit_sample(X_train, y_train)"
      ],
      "execution_count": 111,
      "outputs": [
        {
          "output_type": "stream",
          "text": [
            "/usr/local/lib/python3.6/dist-packages/sklearn/utils/deprecation.py:87: FutureWarning: Function safe_indexing is deprecated; safe_indexing is deprecated in version 0.22 and will be removed in version 0.24.\n",
            "  warnings.warn(msg, category=FutureWarning)\n"
          ],
          "name": "stderr"
        }
      ]
    },
    {
      "cell_type": "code",
      "metadata": {
        "colab": {
          "base_uri": "https://localhost:8080/"
        },
        "id": "9unGl3Mr1CwF",
        "outputId": "5756f07f-613f-4156-faef-bd7e420fd841"
      },
      "source": [
        "print(X.shape)\r\n",
        "if isinstance(X, pd.DataFrame):\r\n",
        "  print('Yes X is dataframe')"
      ],
      "execution_count": 112,
      "outputs": [
        {
          "output_type": "stream",
          "text": [
            "(48260, 49)\n",
            "Yes X is dataframe\n"
          ],
          "name": "stdout"
        }
      ]
    },
    {
      "cell_type": "code",
      "metadata": {
        "colab": {
          "base_uri": "https://localhost:8080/"
        },
        "id": "MM2xFE4rrdEk",
        "outputId": "29c97106-2b9a-4e3d-e175-4b43c65caf44"
      },
      "source": [
        "print(X_trainSM.shape)\r\n",
        "y_trainSM.sum()\r\n",
        "if isinstance(X_trainSM, pd.DataFrame):\r\n",
        "  print('Yes X_trainSM is dataframe')\r\n",
        "else:\r\n",
        "  print('No X_trainSM Not a dataframe')"
      ],
      "execution_count": 113,
      "outputs": [
        {
          "output_type": "stream",
          "text": [
            "(66538, 49)\n",
            "No X_trainSM Not a dataframe\n"
          ],
          "name": "stdout"
        }
      ]
    },
    {
      "cell_type": "code",
      "metadata": {
        "colab": {
          "base_uri": "https://localhost:8080/"
        },
        "id": "crSLeMmOrc9k",
        "outputId": "0ed85bbd-5eee-410e-ff31-5289e2fcba7b"
      },
      "source": [
        "print(X_train.shape)\r\n",
        "y_train.sum()"
      ],
      "execution_count": 114,
      "outputs": [
        {
          "output_type": "stream",
          "text": [
            "(33782, 49)\n"
          ],
          "name": "stdout"
        },
        {
          "output_type": "execute_result",
          "data": {
            "text/plain": [
              "513"
            ]
          },
          "metadata": {
            "tags": []
          },
          "execution_count": 114
        }
      ]
    },
    {
      "cell_type": "code",
      "metadata": {
        "colab": {
          "base_uri": "https://localhost:8080/"
        },
        "id": "QrvRh6zlrc6H",
        "outputId": "57ca598c-c033-4ad4-ecd6-0ed2dc71fb73"
      },
      "source": [
        "from sklearn.linear_model import LogisticRegression\r\n",
        "from sklearn.metrics import accuracy_score, classification_report, confusion_matrix\r\n",
        "\r\n",
        "clf1=LogisticRegression().fit(X_trainSM,y_trainSM)\r\n",
        "clf2=LogisticRegression(penalty='l2',C=0.001).fit(X_trainSM,y_trainSM)"
      ],
      "execution_count": 115,
      "outputs": [
        {
          "output_type": "stream",
          "text": [
            "/usr/local/lib/python3.6/dist-packages/sklearn/linear_model/_logistic.py:940: ConvergenceWarning: lbfgs failed to converge (status=1):\n",
            "STOP: TOTAL NO. of ITERATIONS REACHED LIMIT.\n",
            "\n",
            "Increase the number of iterations (max_iter) or scale the data as shown in:\n",
            "    https://scikit-learn.org/stable/modules/preprocessing.html\n",
            "Please also refer to the documentation for alternative solver options:\n",
            "    https://scikit-learn.org/stable/modules/linear_model.html#logistic-regression\n",
            "  extra_warning_msg=_LOGISTIC_SOLVER_CONVERGENCE_MSG)\n",
            "/usr/local/lib/python3.6/dist-packages/sklearn/linear_model/_logistic.py:940: ConvergenceWarning: lbfgs failed to converge (status=1):\n",
            "STOP: TOTAL NO. of ITERATIONS REACHED LIMIT.\n",
            "\n",
            "Increase the number of iterations (max_iter) or scale the data as shown in:\n",
            "    https://scikit-learn.org/stable/modules/preprocessing.html\n",
            "Please also refer to the documentation for alternative solver options:\n",
            "    https://scikit-learn.org/stable/modules/linear_model.html#logistic-regression\n",
            "  extra_warning_msg=_LOGISTIC_SOLVER_CONVERGENCE_MSG)\n"
          ],
          "name": "stderr"
        }
      ]
    },
    {
      "cell_type": "code",
      "metadata": {
        "colab": {
          "base_uri": "https://localhost:8080/"
        },
        "id": "QQqFApSvrc2i",
        "outputId": "c0fab330-c8ea-4afb-d9d9-cbe3fd2f81a6"
      },
      "source": [
        "acc1=clf1.score(X_trainSM,y_trainSM)\r\n",
        "acc1tst=clf1.score(X_test,y_test)\r\n",
        "predtrn=clf1.predict(X_trainSM)\r\n",
        "predtst=clf1.predict(X_test)\r\n",
        "\r\n",
        "\r\n",
        "acc2=clf2.score(X_trainSM,y_trainSM)\r\n",
        "acc2tst=clf2.score(X_test,y_test)\r\n",
        "\r\n",
        "print('Trg acc', acc1)\r\n",
        "print('Tst acc', acc1tst)\r\n",
        "print('LR Train')\r\n",
        "print(classification_report(y_trainSM,predtrn))\r\n",
        "print('LR Test')\r\n",
        "print(classification_report(y_test,predtst))"
      ],
      "execution_count": 116,
      "outputs": [
        {
          "output_type": "stream",
          "text": [
            "Trg acc 0.7657128257537047\n",
            "Tst acc 0.824906755076668\n",
            "LR Train\n",
            "              precision    recall  f1-score   support\n",
            "\n",
            "           0       0.74      0.83      0.78     33269\n",
            "           1       0.80      0.71      0.75     33269\n",
            "\n",
            "    accuracy                           0.77     66538\n",
            "   macro avg       0.77      0.77      0.76     66538\n",
            "weighted avg       0.77      0.77      0.76     66538\n",
            "\n",
            "LR Test\n",
            "              precision    recall  f1-score   support\n",
            "\n",
            "           0       0.99      0.83      0.90     14283\n",
            "           1       0.05      0.65      0.09       195\n",
            "\n",
            "    accuracy                           0.82     14478\n",
            "   macro avg       0.52      0.74      0.50     14478\n",
            "weighted avg       0.98      0.82      0.89     14478\n",
            "\n"
          ],
          "name": "stdout"
        }
      ]
    },
    {
      "cell_type": "code",
      "metadata": {
        "id": "8aaLj4YUrczf"
      },
      "source": [
        "from sklearn.tree import DecisionTreeClassifier\r\n",
        "\r\n",
        "# create the model object\r\n",
        "dt = DecisionTreeClassifier(random_state=1) "
      ],
      "execution_count": 117,
      "outputs": []
    },
    {
      "cell_type": "code",
      "metadata": {
        "colab": {
          "base_uri": "https://localhost:8080/"
        },
        "id": "vv_pBeNZrcwm",
        "outputId": "7aff812a-13da-47ae-b292-9fc9098b19c6"
      },
      "source": [
        "# fit the model on train data\r\n",
        "dt.fit(X_trainSM, y_trainSM)\r\n",
        "predictions_train = dt.predict(X_trainSM)\r\n",
        "#Predictions on the Test data\r\n",
        "predictions_test = dt.predict(X_test)\r\n",
        "print('Train Accuracy ',accuracy_score(y_trainSM,predictions_train))\r\n",
        "print('Test Accuracy ',accuracy_score(y_test,predictions_test))"
      ],
      "execution_count": 118,
      "outputs": [
        {
          "output_type": "stream",
          "text": [
            "Train Accuracy  0.9986774474736241\n",
            "Test Accuracy  0.9641525072523829\n"
          ],
          "name": "stdout"
        }
      ]
    },
    {
      "cell_type": "code",
      "metadata": {
        "colab": {
          "base_uri": "https://localhost:8080/"
        },
        "id": "cIH5xV3drcte",
        "outputId": "4a68ec07-fed1-49e3-bda2-47e85e28ab85"
      },
      "source": [
        "print('DT Train')\r\n",
        "print(classification_report(y_trainSM,predictions_train))\r\n",
        "print('DT Test')\r\n",
        "print(classification_report(y_test,predictions_test))"
      ],
      "execution_count": 119,
      "outputs": [
        {
          "output_type": "stream",
          "text": [
            "DT Train\n",
            "              precision    recall  f1-score   support\n",
            "\n",
            "           0       1.00      1.00      1.00     33269\n",
            "           1       1.00      1.00      1.00     33269\n",
            "\n",
            "    accuracy                           1.00     66538\n",
            "   macro avg       1.00      1.00      1.00     66538\n",
            "weighted avg       1.00      1.00      1.00     66538\n",
            "\n",
            "DT Test\n",
            "              precision    recall  f1-score   support\n",
            "\n",
            "           0       0.99      0.98      0.98     14283\n",
            "           1       0.05      0.10      0.07       195\n",
            "\n",
            "    accuracy                           0.96     14478\n",
            "   macro avg       0.52      0.54      0.53     14478\n",
            "weighted avg       0.98      0.96      0.97     14478\n",
            "\n"
          ],
          "name": "stdout"
        }
      ]
    },
    {
      "cell_type": "code",
      "metadata": {
        "colab": {
          "base_uri": "https://localhost:8080/"
        },
        "id": "yNK-eP6ArcnG",
        "outputId": "cddb5665-368a-42a5-989d-da20b0673edb"
      },
      "source": [
        "from sklearn.ensemble import RandomForestClassifier\r\n",
        "rfc=RandomForestClassifier(random_state=1)\r\n",
        "rfc.fit(X_trainSM, y_trainSM)"
      ],
      "execution_count": 120,
      "outputs": [
        {
          "output_type": "execute_result",
          "data": {
            "text/plain": [
              "RandomForestClassifier(bootstrap=True, ccp_alpha=0.0, class_weight=None,\n",
              "                       criterion='gini', max_depth=None, max_features='auto',\n",
              "                       max_leaf_nodes=None, max_samples=None,\n",
              "                       min_impurity_decrease=0.0, min_impurity_split=None,\n",
              "                       min_samples_leaf=1, min_samples_split=2,\n",
              "                       min_weight_fraction_leaf=0.0, n_estimators=100,\n",
              "                       n_jobs=None, oob_score=False, random_state=1, verbose=0,\n",
              "                       warm_start=False)"
            ]
          },
          "metadata": {
            "tags": []
          },
          "execution_count": 120
        }
      ]
    },
    {
      "cell_type": "code",
      "metadata": {
        "id": "Gr1C1eYxrcc2"
      },
      "source": [
        "rfc_pred_train=rfc.predict(X_trainSM)\r\n",
        "rfc_pred_test=rfc.predict(X_test)"
      ],
      "execution_count": 121,
      "outputs": []
    },
    {
      "cell_type": "code",
      "metadata": {
        "colab": {
          "base_uri": "https://localhost:8080/"
        },
        "id": "Q3VlSGytsbmg",
        "outputId": "52c1768e-8899-4169-ac47-552c3f3feb02"
      },
      "source": [
        "print('RFC Train')\r\n",
        "print(classification_report(y_trainSM,rfc_pred_train))\r\n",
        "print('RFC Test')\r\n",
        "print(classification_report(y_test,rfc_pred_test))"
      ],
      "execution_count": 122,
      "outputs": [
        {
          "output_type": "stream",
          "text": [
            "RFC Train\n",
            "              precision    recall  f1-score   support\n",
            "\n",
            "           0       1.00      1.00      1.00     33269\n",
            "           1       1.00      1.00      1.00     33269\n",
            "\n",
            "    accuracy                           1.00     66538\n",
            "   macro avg       1.00      1.00      1.00     66538\n",
            "weighted avg       1.00      1.00      1.00     66538\n",
            "\n",
            "RFC Test\n",
            "              precision    recall  f1-score   support\n",
            "\n",
            "           0       0.99      0.99      0.99     14283\n",
            "           1       0.07      0.07      0.07       195\n",
            "\n",
            "    accuracy                           0.97     14478\n",
            "   macro avg       0.53      0.53      0.53     14478\n",
            "weighted avg       0.97      0.97      0.97     14478\n",
            "\n"
          ],
          "name": "stdout"
        }
      ]
    },
    {
      "cell_type": "code",
      "metadata": {
        "colab": {
          "base_uri": "https://localhost:8080/"
        },
        "id": "_FQrcckztPOh",
        "outputId": "4bb2df06-7143-479e-f956-304fa7a2cf09"
      },
      "source": [
        "from sklearn.model_selection import GridSearchCV\r\n",
        "parameters = {'bootstrap': [True],\r\n",
        "'max_depth': [10, 20],\r\n",
        "'min_samples_leaf': [3, 4],\r\n",
        "'min_samples_split': [4, 6],\r\n",
        "'n_estimators': [100, 200]}\r\n",
        "\r\n",
        "grid_search_1=GridSearchCV(RandomForestClassifier(random_state=1), parameters,cv=3, n_jobs = -1,verbose = 2,refit=True).fit(X_trainSM,y_trainSM)"
      ],
      "execution_count": null,
      "outputs": [
        {
          "output_type": "stream",
          "text": [
            "Fitting 3 folds for each of 16 candidates, totalling 48 fits\n"
          ],
          "name": "stdout"
        },
        {
          "output_type": "stream",
          "text": [
            "[Parallel(n_jobs=-1)]: Using backend LokyBackend with 2 concurrent workers.\n"
          ],
          "name": "stderr"
        }
      ]
    },
    {
      "cell_type": "code",
      "metadata": {
        "id": "tSd_4DXVtPKM"
      },
      "source": [
        "gscv_rfc_test_pred=grid_search_1.predict(X_test)\r\n",
        "gscv_rfc_trn_pred=grid_search_1.predict(X_trainSM)\r\n",
        "print(\"Best parameters from GSCV\", grid_search_1.best_params_)\r\n",
        "print('GSCV RFC Train')\r\n",
        "print(classification_report(y_trainSM,gscv_rfc_trn_pred))\r\n",
        "print('GSCV RFC Test')\r\n",
        "print(classification_report(y_test,gscv_rfc_test_pred))"
      ],
      "execution_count": null,
      "outputs": []
    },
    {
      "cell_type": "code",
      "metadata": {
        "id": "QQ6XcYw-tPGd"
      },
      "source": [
        "import time\r\n",
        "start_time = time.time()\r\n",
        "param_grid={\"max_leaf_nodes\": [5, 10, 15, 20],\r\n",
        "              'min_samples_split': [4, 6, 8, 10]}\r\n",
        "grid_search_2= GridSearchCV(DecisionTreeClassifier(random_state=1), param_grid, cv=3,n_jobs = -1,verbose = 2,refit=True)\r\n",
        "grid_search_2.fit(X_trainSM,y_trainSM)\r\n",
        "print(\"GridSearch took %s seconds\" % (time.time() - start_time))#Time to perform gridsearchCV\r\n",
        "print(\"Best parameters from GSCV\", grid_search_2.best_params_)"
      ],
      "execution_count": null,
      "outputs": []
    },
    {
      "cell_type": "code",
      "metadata": {
        "id": "6a_Y84V4tPCo"
      },
      "source": [
        "result = grid_search_2.cv_results_\r\n",
        "#print(result)\r\n",
        "gscv_dt_test_pred=grid_search_2.predict(X_test)\r\n",
        "gscv_dt_trn_pred=grid_search_2.predict(X_trainSM)\r\n",
        "print(\"Best parameters from GSCV\", grid_search_2.best_params_)\r\n",
        "print('GSCV DT Train')\r\n",
        "print(classification_report(y_trainSM,gscv_dt_trn_pred))\r\n",
        "print('GSCV DT Test')\r\n",
        "print(classification_report(y_test,gscv_dt_test_pred))"
      ],
      "execution_count": null,
      "outputs": []
    },
    {
      "cell_type": "code",
      "metadata": {
        "id": "GHs5c1SCtO2j"
      },
      "source": [
        "from sklearn.feature_selection import RFE\r\n",
        "estimator=RandomForestClassifier(random_state=1)\r\n",
        "selector = RFE(estimator, step=1)\r\n",
        "selector = selector.fit(X_trainSM, y_trainSM)\r\n",
        "selector.support_"
      ],
      "execution_count": null,
      "outputs": []
    },
    {
      "cell_type": "code",
      "metadata": {
        "id": "G79VYmX7vH53"
      },
      "source": [
        "print('Features selected : ', selector.support_.sum())"
      ],
      "execution_count": null,
      "outputs": []
    },
    {
      "cell_type": "code",
      "metadata": {
        "id": "z1gRW4eOvH_o"
      },
      "source": [
        "print(\"Top features are \")\r\n",
        "\r\n",
        "for i in X.columns[selector.support_]: print(i)\r\n",
        "rfe_5=[]\r\n",
        "\r\n",
        "for i in X.columns[selector.support_]:\r\n",
        "  rfe_5.append(X.columns.get_loc(i))"
      ],
      "execution_count": null,
      "outputs": []
    },
    {
      "cell_type": "code",
      "metadata": {
        "id": "nfjmxGJsRRqq"
      },
      "source": [
        "print(rfe_5)\r\n",
        "selector.ranking_"
      ],
      "execution_count": null,
      "outputs": []
    },
    {
      "cell_type": "code",
      "metadata": {
        "id": "Zz6Dm2cqRonr"
      },
      "source": [
        "print('RFC RFE Train')\r\n",
        "print(classification_report(y_trainSM,selector.predict(X_trainSM)))\r\n",
        "print('RFC RFE Test')\r\n",
        "print(classification_report(y_test,selector.predict(X_test)))"
      ],
      "execution_count": null,
      "outputs": []
    }
  ]
}